{
  "nbformat": 4,
  "nbformat_minor": 0,
  "metadata": {
    "colab": {
      "provenance": []
    },
    "kernelspec": {
      "name": "python3",
      "display_name": "Python 3"
    },
    "language_info": {
      "name": "python"
    }
  },
  "cells": [
    {
      "cell_type": "code",
      "execution_count": 1,
      "metadata": {
        "id": "NwS-lkf9TNh2"
      },
      "outputs": [],
      "source": [
        "import pandas as pd\n",
        "import matplotlib.pyplot as plt\n",
        "import seaborn as sns\n",
        "from sklearn.model_selection import train_test_split\n",
        "from sklearn.metrics import accuracy_score, classification_report\n",
        "from imblearn.over_sampling import SMOTE\n",
        "from sklearn.preprocessing import StandardScaler\n",
        "from sklearn.linear_model import LogisticRegression\n",
        "from sklearn.metrics import roc_curve, roc_auc_score, classification_report"
      ]
    },
    {
      "cell_type": "code",
      "source": [
        "base = pd.read_csv(\"CARDIO_BASE.csv\", delimiter=';')\n",
        "print(base.head())"
      ],
      "metadata": {
        "colab": {
          "base_uri": "https://localhost:8080/"
        },
        "id": "ukz7MR_DTX2Q",
        "outputId": "c3c98673-bd4f-48cd-cb71-5ddd946b2046"
      },
      "execution_count": 7,
      "outputs": [
        {
          "output_type": "stream",
          "name": "stdout",
          "text": [
            "   age  gender  height weight  cholesterol  gluc  smoke  alco  active  \\\n",
            "0   50       2     168     62            1     1      0     0       1   \n",
            "1   55       1     156     85            3     1      0     0       1   \n",
            "2   52       1     165     64            3     1      0     0       0   \n",
            "3   48       2     169     82            1     1      0     0       1   \n",
            "4   48       1     156     56            1     1      0     0       0   \n",
            "\n",
            "   cardio_disease  \n",
            "0               0  \n",
            "1               1  \n",
            "2               1  \n",
            "3               1  \n",
            "4               0  \n"
          ]
        }
      ]
    },
    {
      "cell_type": "markdown",
      "source": [
        "age - idade dos pacientes\n",
        "\n",
        "gender - genero (2 mulheres) (1 homens)\n",
        "\n",
        "height - altura dos pacientes\n",
        "\n",
        "weight - peso dos pacientes\n",
        "\n",
        "gluc - glicose\n",
        "\n",
        "smoke - fumante (1) não fumante (0)\n",
        "\n",
        "alco - consume alcool (1) não consome (0)\n",
        "\n",
        "active - realiza atividades fisicas (1) não realiza (0)\n",
        "\n",
        "cardio_disease - tem doença cardio (1) não tem (0) - Variável target"
      ],
      "metadata": {
        "id": "kUe2pAlGUr6-"
      }
    },
    {
      "cell_type": "code",
      "source": [
        "base.info()"
      ],
      "metadata": {
        "colab": {
          "base_uri": "https://localhost:8080/"
        },
        "id": "7UXuiiCaTequ",
        "outputId": "327bcefb-feae-4f91-b529-ff10e885003e"
      },
      "execution_count": 5,
      "outputs": [
        {
          "output_type": "stream",
          "name": "stdout",
          "text": [
            "<class 'pandas.core.frame.DataFrame'>\n",
            "RangeIndex: 10000 entries, 0 to 9999\n",
            "Data columns (total 10 columns):\n",
            " #   Column          Non-Null Count  Dtype \n",
            "---  ------          --------------  ----- \n",
            " 0   age             10000 non-null  int64 \n",
            " 1   gender          10000 non-null  int64 \n",
            " 2   height          10000 non-null  int64 \n",
            " 3   weight          10000 non-null  object\n",
            " 4   cholesterol     10000 non-null  int64 \n",
            " 5   gluc            10000 non-null  int64 \n",
            " 6   smoke           10000 non-null  int64 \n",
            " 7   alco            10000 non-null  int64 \n",
            " 8   active          10000 non-null  int64 \n",
            " 9   cardio_disease  10000 non-null  int64 \n",
            "dtypes: int64(9), object(1)\n",
            "memory usage: 781.4+ KB\n"
          ]
        }
      ]
    },
    {
      "cell_type": "code",
      "source": [
        "# Remove espaços, vírgulas se houver\n",
        "base['weight'] = base['weight'].astype(str).str.replace(',', '.')\n",
        "base['weight'] = base['weight'].str.extract(r'(\\d+\\.?\\d*)')  # extrai apenas números\n",
        "base['weight'] = pd.to_numeric(base['weight'], errors='coerce')"
      ],
      "metadata": {
        "id": "f6kqqU1rVUcY"
      },
      "execution_count": 12,
      "outputs": []
    },
    {
      "cell_type": "code",
      "source": [
        "print(base['weight'].isnull().sum())"
      ],
      "metadata": {
        "colab": {
          "base_uri": "https://localhost:8080/"
        },
        "id": "cTfRpycQVxCW",
        "outputId": "9fe6ef11-38f2-4a23-8e1c-86a0548f537d"
      },
      "execution_count": 14,
      "outputs": [
        {
          "output_type": "stream",
          "name": "stdout",
          "text": [
            "0\n"
          ]
        }
      ]
    },
    {
      "cell_type": "code",
      "source": [
        "# Ver valores nulos\n",
        "print(base.isnull().sum())"
      ],
      "metadata": {
        "colab": {
          "base_uri": "https://localhost:8080/"
        },
        "id": "Z0kYvlIYUDuU",
        "outputId": "45bf4cfc-cb0b-48c7-a044-d024ec5e78e5"
      },
      "execution_count": 15,
      "outputs": [
        {
          "output_type": "stream",
          "name": "stdout",
          "text": [
            "age               0\n",
            "gender            0\n",
            "height            0\n",
            "weight            0\n",
            "cholesterol       0\n",
            "gluc              0\n",
            "smoke             0\n",
            "alco              0\n",
            "active            0\n",
            "cardio_disease    0\n",
            "dtype: int64\n"
          ]
        }
      ]
    },
    {
      "cell_type": "code",
      "source": [
        "# Estatísticas\n",
        "print(base.describe())"
      ],
      "metadata": {
        "colab": {
          "base_uri": "https://localhost:8080/"
        },
        "id": "9o14IiczUO8-",
        "outputId": "10dc03a5-bcb8-4da3-d4ce-be98c43c2c9e"
      },
      "execution_count": 16,
      "outputs": [
        {
          "output_type": "stream",
          "name": "stdout",
          "text": [
            "                age        gender        height        weight   cholesterol  \\\n",
            "count  10000.000000  10000.000000  10000.000000  10000.000000  10000.000000   \n",
            "mean      53.288300      1.345400    164.308200     74.303710      1.365000   \n",
            "std        6.796234      0.475522      8.178796     14.566353      0.677658   \n",
            "min       30.000000      1.000000     70.000000     30.000000      1.000000   \n",
            "25%       48.000000      1.000000    159.000000     65.000000      1.000000   \n",
            "50%       54.000000      1.000000    165.000000     72.000000      1.000000   \n",
            "75%       58.000000      2.000000    170.000000     82.000000      2.000000   \n",
            "max       65.000000      2.000000    250.000000    200.000000      3.000000   \n",
            "\n",
            "               gluc         smoke          alco        active  cardio_disease  \n",
            "count  10000.000000  10000.000000  10000.000000  10000.000000    10000.000000  \n",
            "mean       1.222200      0.089000      0.053700      0.797200        0.503100  \n",
            "std        0.565561      0.284758      0.225436      0.402105        0.500015  \n",
            "min        1.000000      0.000000      0.000000      0.000000        0.000000  \n",
            "25%        1.000000      0.000000      0.000000      1.000000        0.000000  \n",
            "50%        1.000000      0.000000      0.000000      1.000000        1.000000  \n",
            "75%        1.000000      0.000000      0.000000      1.000000        1.000000  \n",
            "max        3.000000      1.000000      1.000000      1.000000        1.000000  \n"
          ]
        }
      ]
    },
    {
      "cell_type": "code",
      "source": [
        "base['gender'] = base['gender'].map({1: 'Mulher', 2: 'Homem'})\n",
        "base['gender'] = base['gender'].astype('category')"
      ],
      "metadata": {
        "id": "iM-UdfsaWHCn"
      },
      "execution_count": 18,
      "outputs": []
    },
    {
      "cell_type": "code",
      "source": [
        "print(base['gender'].value_counts())"
      ],
      "metadata": {
        "colab": {
          "base_uri": "https://localhost:8080/"
        },
        "id": "5GGjV3QmWQVb",
        "outputId": "8f561839-de94-44af-a042-345b56154ec1"
      },
      "execution_count": 21,
      "outputs": [
        {
          "output_type": "stream",
          "name": "stdout",
          "text": [
            "gender\n",
            "Mulher    6546\n",
            "Homem     3454\n",
            "Name: count, dtype: int64\n"
          ]
        }
      ]
    },
    {
      "cell_type": "code",
      "source": [
        "numeric_cols = ['age', 'height', 'weight', 'cholesterol', 'gluc', 'smoke', 'alco', 'active', 'cardio_disease']\n",
        "base[numeric_cols] = base[numeric_cols].apply(pd.to_numeric)"
      ],
      "metadata": {
        "id": "m9LI8UhNWSwt"
      },
      "execution_count": 22,
      "outputs": []
    },
    {
      "cell_type": "code",
      "source": [
        "print(base['cholesterol'].value_counts())\n",
        "print(base['gluc'].value_counts())\n"
      ],
      "metadata": {
        "colab": {
          "base_uri": "https://localhost:8080/"
        },
        "id": "cQV8oLTWWvTs",
        "outputId": "5a032fd4-a06b-433a-edbc-fdf787bc6170"
      },
      "execution_count": 24,
      "outputs": [
        {
          "output_type": "stream",
          "name": "stdout",
          "text": [
            "cholesterol\n",
            "1    7487\n",
            "2    1376\n",
            "3    1137\n",
            "Name: count, dtype: int64\n",
            "gluc\n",
            "1    8513\n",
            "2     752\n",
            "3     735\n",
            "Name: count, dtype: int64\n"
          ]
        }
      ]
    },
    {
      "cell_type": "code",
      "source": [
        "sns.boxplot(x=base['height'])\n",
        "plt.title(\"Altura\")\n",
        "plt.show()\n",
        "\n",
        "sns.boxplot(x=base['weight'])\n",
        "plt.title(\"Peso\")\n",
        "plt.show()\n",
        "\n",
        "# Remover outliers usando IQR\n",
        "def remove_outliers_iqr(df, column):\n",
        "    Q1 = base[column].quantile(0.25)\n",
        "    Q3 = base[column].quantile(0.75)\n",
        "    IQR = Q3 - Q1\n",
        "    lower = Q1 - 1.5 * IQR\n",
        "    upper = Q3 + 1.5 * IQR\n",
        "    return base[(base[column] >= lower) & (base[column] <= upper)]\n",
        "\n",
        "df = remove_outliers_iqr(base, 'height')\n",
        "df = remove_outliers_iqr(base, 'weight')\n"
      ],
      "metadata": {
        "colab": {
          "base_uri": "https://localhost:8080/",
          "height": 927
        },
        "id": "jsDuWCx_W5sb",
        "outputId": "fba93b2e-85e9-4e7b-a896-0bcd651354ca"
      },
      "execution_count": 25,
      "outputs": [
        {
          "output_type": "display_data",
          "data": {
            "text/plain": [
              "<Figure size 640x480 with 1 Axes>"
            ],
            "image/png": "[encoded data removed]"
          },
          "metadata": {}
        },
        {
          "output_type": "display_data",
          "data": {
            "text/plain": [
              "<Figure size 640x480 with 1 Axes>"
            ],
            "image/png": "[encoded data removed]"
          },
          "metadata": {}
        }
      ]
    },
    {
      "cell_type": "code",
      "source": [
        "#Criando coluna de IMC\n",
        "base['imc'] = base['weight'] / ((base['height']/100) ** 2)"
      ],
      "metadata": {
        "id": "mOCrteWmXNGj"
      },
      "execution_count": 31,
      "outputs": []
    },
    {
      "cell_type": "code",
      "source": [
        "print(base.head())"
      ],
      "metadata": {
        "colab": {
          "base_uri": "https://localhost:8080/"
        },
        "id": "TwofQOkFXY8c",
        "outputId": "95011107-841e-43a8-ad23-40772f8da3f7"
      },
      "execution_count": 34,
      "outputs": [
        {
          "output_type": "stream",
          "name": "stdout",
          "text": [
            "   age  gender  height  weight  cholesterol  gluc  smoke  alco  active  \\\n",
            "0   50   Homem     168    62.0            1     1      0     0       1   \n",
            "1   55  Mulher     156    85.0            3     1      0     0       1   \n",
            "2   52  Mulher     165    64.0            3     1      0     0       0   \n",
            "3   48   Homem     169    82.0            1     1      0     0       1   \n",
            "4   48  Mulher     156    56.0            1     1      0     0       0   \n",
            "\n",
            "   cardio_disease        imc  \n",
            "0               0  21.967120  \n",
            "1               1  34.927679  \n",
            "2               1  23.507805  \n",
            "3               1  28.710479  \n",
            "4               0  23.011177  \n"
          ]
        }
      ]
    },
    {
      "cell_type": "markdown",
      "source": [
        "Gráficos analisando o comportamento da variável cardio"
      ],
      "metadata": {
        "id": "l7qyJOeOYMQY"
      }
    },
    {
      "cell_type": "code",
      "source": [
        "#Distribuição da Idade por Doença Cardíaca\n",
        "\n",
        "import seaborn as sns\n",
        "import matplotlib.pyplot as plt\n",
        "\n",
        "plt.figure(figsize=(10, 5))\n",
        "sns.boxplot(data=base, x='cardio_disease', y='age')\n",
        "plt.title('Distribuição da Idade por Presença de Doença Cardíaca')\n",
        "plt.xlabel('Doença Cardíaca (0 = Não, 1 = Sim)')\n",
        "plt.ylabel('Idade (anos)')\n",
        "plt.show()\n",
        "#"
      ],
      "metadata": {
        "colab": {
          "base_uri": "https://localhost:8080/",
          "height": 488
        },
        "id": "bF15nBkSX8DW",
        "outputId": "a2c7afc5-2e79-4680-a4ae-052926e3d578"
      },
      "execution_count": 35,
      "outputs": [
        {
          "output_type": "display_data",
          "data": {
            "text/plain": [
              "<Figure size 1000x500 with 1 Axes>"
            ],
            "image/png": "[encoded data removed]"
          },
          "metadata": {}
        }
      ]
    },
    {
      "cell_type": "markdown",
      "source": [
        "Observa-se que a faixa etária das pessoas com doença cardíaca está mais concentrada entre 50 e 60 anos.Isso sugere que a idade é um fator relevante, pessoas mais velhas têm mais chances de ter problemas cardíacos."
      ],
      "metadata": {
        "id": "qiSboLoRYoJX"
      }
    },
    {
      "cell_type": "code",
      "source": [
        "#Atividade Física x Doença Cardíaca\n",
        "\n",
        "plt.figure(figsize=(6, 4))\n",
        "sns.countplot(data=base, x='active', hue='cardio_disease')\n",
        "plt.title('Atividade Física vs Doença Cardíaca')\n",
        "plt.xlabel('Ativo (1 = Sim, 0 = Não)')\n",
        "plt.ylabel('Contagem')\n",
        "plt.legend(title='Doença Cardíaca')\n",
        "plt.show()\n"
      ],
      "metadata": {
        "colab": {
          "base_uri": "https://localhost:8080/",
          "height": 411
        },
        "id": "D-Ar4MV-Y0qc",
        "outputId": "b393b56e-c67a-4120-9062-119d85449872"
      },
      "execution_count": 36,
      "outputs": [
        {
          "output_type": "display_data",
          "data": {
            "text/plain": [
              "<Figure size 600x400 with 1 Axes>"
            ],
            "image/png": "[encoded data removed]"
          },
          "metadata": {}
        }
      ]
    },
    {
      "cell_type": "markdown",
      "source": [
        "Neste grafico nota-se uma leve direferença entre quem é ativo ou não, porém a quantidade de pessoas não ativas que tem problema cardiaco (cor laranja), é proporcionalmente menor comparado aos não ativos."
      ],
      "metadata": {
        "id": "D8H211VaZYnz"
      }
    },
    {
      "cell_type": "code",
      "source": [
        "#Colesterol x Doença Cardíaca\n",
        "\n",
        "plt.figure(figsize=(6, 4))\n",
        "sns.countplot(data=base, x='cholesterol', hue='cardio_disease')\n",
        "plt.title('Colesterol vs Doença Cardíaca')\n",
        "plt.xlabel('Nível de Colesterol (1 = Normal, 2 = Acima, 3 = Muito acima)')\n",
        "plt.ylabel('Contagem')\n",
        "plt.legend(title='Doença Cardíaca')\n",
        "plt.show()\n"
      ],
      "metadata": {
        "colab": {
          "base_uri": "https://localhost:8080/",
          "height": 411
        },
        "id": "MK87q8xiZ65x",
        "outputId": "7a8cd3ae-f3b2-47ee-d992-32d7078a40a9"
      },
      "execution_count": 37,
      "outputs": [
        {
          "output_type": "display_data",
          "data": {
            "text/plain": [
              "<Figure size 600x400 with 1 Axes>"
            ],
            "image/png": "[encoded data removed]"
          },
          "metadata": {}
        }
      ]
    },
    {
      "cell_type": "markdown",
      "source": [
        "Nota-se que cpnforme o nivel de colesterol aumenta, a proporção de pesssoas com doença cardiaca tambem aumenta.\n",
        "Isso indica uma relação entre colesterol elevado e risco de doença cardiaca."
      ],
      "metadata": {
        "id": "3rX5mOxdaXSN"
      }
    },
    {
      "cell_type": "markdown",
      "source": [
        "#Matriz de correlação"
      ],
      "metadata": {
        "id": "qfWfDh-fbQ-o"
      }
    },
    {
      "cell_type": "code",
      "source": [
        "# Selecionar apenas colunas numéricas\n",
        "numeric_cols = base.select_dtypes(include='number')\n",
        "\n",
        "# Calcular a matriz de correlação\n",
        "corr_matrix = numeric_cols.corr(method='pearson')\n",
        "\n",
        "# Exibir a matriz de correlação\n",
        "print(\"Matriz de Correlação:\")\n",
        "print(corr_matrix)\n",
        "\n",
        "# Gerar o heatmap\n",
        "plt.figure(figsize=(10, 8))\n",
        "sns.heatmap(corr_matrix, annot=True, fmt=\".2f\", cmap='coolwarm', square=True, cbar_kws={'shrink': .8})\n",
        "plt.title(\"Matriz de Correlação\")\n",
        "plt.tight_layout()\n",
        "plt.show()"
      ],
      "metadata": {
        "colab": {
          "base_uri": "https://localhost:8080/",
          "height": 1000
        },
        "id": "M9ECHk0LbP7k",
        "outputId": "b2b5b1ba-dd29-4b1e-aa15-4c2677507434"
      },
      "execution_count": 38,
      "outputs": [
        {
          "output_type": "stream",
          "name": "stdout",
          "text": [
            "Matriz de Correlação:\n",
            "                     age    height    weight  cholesterol      gluc     smoke  \\\n",
            "age             1.000000 -0.079205  0.046665     0.172934  0.091026 -0.049640   \n",
            "height         -0.079205  1.000000  0.290502    -0.044984 -0.024428  0.193053   \n",
            "weight          0.046665  0.290502  1.000000     0.132124  0.100919  0.066399   \n",
            "cholesterol     0.172934 -0.044984  0.132124     1.000000  0.431599  0.024436   \n",
            "gluc            0.091026 -0.024428  0.100919     0.431599  1.000000  0.017538   \n",
            "smoke          -0.049640  0.193053  0.066399     0.024436  0.017538  1.000000   \n",
            "alco           -0.043592  0.112578  0.079258     0.019636  0.013867  0.329043   \n",
            "active         -0.022665 -0.010551 -0.020923     0.018799  0.004671  0.031873   \n",
            "cardio_disease  0.237076 -0.008353  0.183325     0.221273  0.082441 -0.018093   \n",
            "imc             0.080462 -0.259592  0.814130     0.144160  0.104777 -0.027867   \n",
            "\n",
            "                    alco    active  cardio_disease       imc  \n",
            "age            -0.043592 -0.022665        0.237076  0.080462  \n",
            "height          0.112578 -0.010551       -0.008353 -0.259592  \n",
            "weight          0.079258 -0.020923        0.183325  0.814130  \n",
            "cholesterol     0.019636  0.018799        0.221273  0.144160  \n",
            "gluc            0.013867  0.004671        0.082441  0.104777  \n",
            "smoke           0.329043  0.031873       -0.018093 -0.027867  \n",
            "alco            1.000000  0.037405       -0.006357  0.016707  \n",
            "active          0.037405  1.000000       -0.039153 -0.012710  \n",
            "cardio_disease -0.006357 -0.039153        1.000000  0.176450  \n",
            "imc             0.016707 -0.012710        0.176450  1.000000  \n"
          ]
        },
        {
          "output_type": "display_data",
          "data": {
            "text/plain": [
              "<Figure size 1000x800 with 2 Axes>"
            ],
            "image/png": "[encoded data removed]"
          },
          "metadata": {}
        }
      ]
    },
    {
      "cell_type": "markdown",
      "source": [
        "Nota-se:\n",
        "Pessoas mais velhas tendem a ter mais doenças cardiacas (0.24)\n",
        "\n",
        "Colesterol e glicose alta podem estar associados a doença cardiaca (0.22) e (0.18)\n",
        "\n",
        "No imc esta altamente correlacionado (0.81)\n",
        "\n",
        "alcool e fumo existe uma correlçao moderada (0.33)\n",
        "\n",
        "Sendo as variaveis mais destacadas Idade, Colesterol, glicose e peso\n"
      ],
      "metadata": {
        "id": "LA4Q-o1ccALI"
      }
    },
    {
      "cell_type": "code",
      "source": [
        "# Separando as variáveis preditoras (X) e a variável alvo (y)\n",
        "X = base.drop('cardio_disease', axis=1)  # remove a coluna alvo dos preditores\n",
        "y = base['cardio_disease']              # variável alvo\n",
        "\n",
        "# Dividindo em treino e teste (ex: 70% treino, 30% teste)\n",
        "X_treino, X_teste, y_treino, y_teste = train_test_split(X, y, test_size=0.3, random_state=42, stratify=y)\n",
        "\n",
        "# Verificando as dimensões\n",
        "print(\"Tamanho do conjunto de treino:\", X_treino.shape)\n",
        "print(\"Tamanho do conjunto de teste :\", X_teste.shape)"
      ],
      "metadata": {
        "colab": {
          "base_uri": "https://localhost:8080/"
        },
        "id": "uFsDhQCkdGSm",
        "outputId": "9cdd56b8-3a32-42e7-f8c9-2a46f4293851"
      },
      "execution_count": 39,
      "outputs": [
        {
          "output_type": "stream",
          "name": "stdout",
          "text": [
            "Tamanho do conjunto de treino: (7000, 10)\n",
            "Tamanho do conjunto de teste : (3000, 10)\n"
          ]
        }
      ]
    },
    {
      "cell_type": "markdown",
      "source": [
        "Sem padronização, variáveis com escala maior podem influenciar excessivamente o modelo.\n",
        "\n"
      ],
      "metadata": {
        "id": "DQi1-ojZdUCp"
      }
    },
    {
      "cell_type": "code",
      "source": [
        "# Selecionar somente colunas numéricas (exceto variável alvo)\n",
        "colunas_numericas = X.select_dtypes(include='number').columns\n",
        "\n",
        "# Instanciando o padronizador\n",
        "scaler = StandardScaler()\n",
        "\n",
        "# Ajustar e transformar com base no conjunto de treino\n",
        "X_treino[colunas_numericas] = scaler.fit_transform(X_treino[colunas_numericas])\n",
        "X_teste[colunas_numericas] = scaler.transform(X_teste[colunas_numericas])"
      ],
      "metadata": {
        "id": "FjGBAJSYdTZG"
      },
      "execution_count": 40,
      "outputs": []
    },
    {
      "cell_type": "code",
      "source": [
        "#Conferir se os dados estão balanceados\n",
        "\n",
        "print(base['cardio_disease'].value_counts())\n",
        "print(base['cardio_disease'].value_counts(normalize=True))  # proporções"
      ],
      "metadata": {
        "colab": {
          "base_uri": "https://localhost:8080/"
        },
        "id": "p5hMccsldksK",
        "outputId": "e46aa6b0-f88e-41a9-daa0-00d56f2adc72"
      },
      "execution_count": 41,
      "outputs": [
        {
          "output_type": "stream",
          "name": "stdout",
          "text": [
            "cardio_disease\n",
            "1    5031\n",
            "0    4969\n",
            "Name: count, dtype: int64\n",
            "cardio_disease\n",
            "1    0.5031\n",
            "0    0.4969\n",
            "Name: proportion, dtype: float64\n"
          ]
        }
      ]
    },
    {
      "cell_type": "code",
      "source": [
        "# Tamanhos dos conjuntos\n",
        "print(\"X_treino shape:\", X_treino.shape)\n",
        "print(\"y_treino shape:\", y_treino.shape)\n",
        "print(\"X_teste shape :\", X_teste.shape)\n",
        "print(\"y_teste shape :\", y_teste.shape)"
      ],
      "metadata": {
        "colab": {
          "base_uri": "https://localhost:8080/"
        },
        "id": "rQOau4vvd2ks",
        "outputId": "78577fb8-e805-44f3-b1c4-f6729f7e91c7"
      },
      "execution_count": 42,
      "outputs": [
        {
          "output_type": "stream",
          "name": "stdout",
          "text": [
            "X_treino shape: (7000, 10)\n",
            "y_treino shape: (7000,)\n",
            "X_teste shape : (3000, 10)\n",
            "y_teste shape : (3000,)\n"
          ]
        }
      ]
    },
    {
      "cell_type": "code",
      "source": [
        "# Verificar se a coluna 'cardio_disease' ainda está presente em X_treino e X_teste\n",
        "print(\"Colunas de X_treino:\", X_treino.columns)\n",
        "print(\"Colunas de X_teste:\", X_teste.columns)"
      ],
      "metadata": {
        "colab": {
          "base_uri": "https://localhost:8080/"
        },
        "id": "B-IP_xWOeTBz",
        "outputId": "69600bd3-96d4-4796-b9f0-dd8787f3ee09"
      },
      "execution_count": 44,
      "outputs": [
        {
          "output_type": "stream",
          "name": "stdout",
          "text": [
            "Colunas de X_treino: Index(['age', 'gender', 'height', 'weight', 'cholesterol', 'gluc', 'smoke',\n",
            "       'alco', 'active', 'imc'],\n",
            "      dtype='object')\n",
            "Colunas de X_teste: Index(['age', 'gender', 'height', 'weight', 'cholesterol', 'gluc', 'smoke',\n",
            "       'alco', 'active', 'imc'],\n",
            "      dtype='object')\n"
          ]
        }
      ]
    },
    {
      "cell_type": "code",
      "source": [
        "# Visualizar as primeiras linhas de X_treino\n",
        "print(\"X_treino:\")\n",
        "print(X_treino.head())\n",
        "\n",
        "# Visualizar y_treino\n",
        "print(\"\\ny_treino:\")\n",
        "print(y_treino.head())\n",
        "\n",
        "# Visualizar as primeiras linhas de X_teste\n",
        "print(\"\\nX_teste:\")\n",
        "print(X_teste.head())\n",
        "\n",
        "# Visualizar y_teste\n",
        "print(\"\\ny_teste:\")\n",
        "print(y_teste.head())\n"
      ],
      "metadata": {
        "colab": {
          "base_uri": "https://localhost:8080/"
        },
        "id": "3eBw13ued6uK",
        "outputId": "d062ee1c-98de-4466-cff9-5849c28db02c"
      },
      "execution_count": 45,
      "outputs": [
        {
          "output_type": "stream",
          "name": "stdout",
          "text": [
            "X_treino:\n",
            "           age  gender    height    weight  cholesterol      gluc     smoke  \\\n",
            "5964 -0.041938  Mulher  0.447082  0.326683    -0.544637 -0.394431 -0.313387   \n",
            "1774  1.576714  Mulher -0.166464 -0.362844     2.403901  3.147602 -0.313387   \n",
            "5753  0.693813  Mulher  1.060627  0.395636     0.929632  1.376586  3.190942   \n",
            "9265  1.282413   Homem -0.289173 -0.500749    -0.544637 -0.394431  3.190942   \n",
            "7658 -0.189088   Homem  1.674173 -0.500749    -0.544637 -0.394431 -0.313387   \n",
            "\n",
            "          alco    active       imc  \n",
            "5964 -0.239587  0.504906  0.071592  \n",
            "1774 -0.239587  0.504906 -0.272864  \n",
            "5753 -0.239587  0.504906 -0.143314  \n",
            "9265 -0.239587  0.504906 -0.347965  \n",
            "7658 -0.239587  0.504906 -1.095329  \n",
            "\n",
            "y_treino:\n",
            "5964    0\n",
            "1774    1\n",
            "5753    1\n",
            "9265    1\n",
            "7658    0\n",
            "Name: cardio_disease, dtype: int64\n",
            "\n",
            "X_teste:\n",
            "           age  gender    height    weight  cholesterol      gluc     smoke  \\\n",
            "7511  0.546663   Homem  0.937918 -0.155986     2.403901 -0.394431 -0.313387   \n",
            "8207 -1.660589  Mulher  0.447082 -1.121323    -0.544637 -0.394431 -0.313387   \n",
            "8441  0.105212   Homem  0.692500  1.016210    -0.544637  3.147602 -0.313387   \n",
            "362  -1.366289   Homem  0.447082 -0.155986    -0.544637 -0.394431 -0.313387   \n",
            "9842  0.693813  Mulher -0.780009 -0.224938    -0.544637 -0.394431 -0.313387   \n",
            "\n",
            "          alco    active       imc  \n",
            "7511 -0.239587  0.504906 -0.551231  \n",
            "8207 -0.239587  0.504906 -1.197022  \n",
            "8441 -0.239587  0.504906  0.549932  \n",
            "362  -0.239587  0.504906 -0.351279  \n",
            "9842 -0.239587 -1.980567  0.148419  \n",
            "\n",
            "y_teste:\n",
            "7511    1\n",
            "8207    0\n",
            "8441    1\n",
            "362     0\n",
            "9842    1\n",
            "Name: cardio_disease, dtype: int64\n"
          ]
        }
      ]
    },
    {
      "cell_type": "code",
      "source": [
        "# Codificando a variável 'gender' para numérica (ex: 'Mulher' = 0, 'Homem' = 1)\n",
        "\n",
        "from sklearn.preprocessing import LabelEncoder\n",
        "\n",
        "le = LabelEncoder()\n",
        "X_treino['gender'] = le.fit_transform(X_treino['gender'])\n",
        "X_teste['gender'] = le.transform(X_teste['gender'])\n",
        "\n",
        "# Verificando a transformação\n",
        "print(\"X_treino com 'gender' codificado:\")\n",
        "print(X_treino[['gender']].head())"
      ],
      "metadata": {
        "colab": {
          "base_uri": "https://localhost:8080/"
        },
        "id": "cUQWUM2Ae4zx",
        "outputId": "07a9904f-2c45-4543-bcae-8eb4e94c7aea"
      },
      "execution_count": 48,
      "outputs": [
        {
          "output_type": "stream",
          "name": "stdout",
          "text": [
            "X_treino com 'gender' codificado:\n",
            "      gender\n",
            "5964       1\n",
            "1774       1\n",
            "5753       1\n",
            "9265       0\n",
            "7658       0\n"
          ]
        }
      ]
    },
    {
      "cell_type": "code",
      "source": [
        "# Verificando valores ausentes\n",
        "print(\"Valores ausentes em X_treino:\")\n",
        "print(X_treino.isnull().sum())\n",
        "print(\"\\nValores ausentes em X_teste:\")\n",
        "print(X_teste.isnull().sum())"
      ],
      "metadata": {
        "colab": {
          "base_uri": "https://localhost:8080/"
        },
        "id": "bzH666BofEOC",
        "outputId": "ca6884aa-ff71-40f7-fbf9-7171459870d0"
      },
      "execution_count": 49,
      "outputs": [
        {
          "output_type": "stream",
          "name": "stdout",
          "text": [
            "Valores ausentes em X_treino:\n",
            "age            0\n",
            "gender         0\n",
            "height         0\n",
            "weight         0\n",
            "cholesterol    0\n",
            "gluc           0\n",
            "smoke          0\n",
            "alco           0\n",
            "active         0\n",
            "imc            0\n",
            "dtype: int64\n",
            "\n",
            "Valores ausentes em X_teste:\n",
            "age            0\n",
            "gender         0\n",
            "height         0\n",
            "weight         0\n",
            "cholesterol    0\n",
            "gluc           0\n",
            "smoke          0\n",
            "alco           0\n",
            "active         0\n",
            "imc            0\n",
            "dtype: int64\n"
          ]
        }
      ]
    },
    {
      "cell_type": "code",
      "source": [
        "print(\"Distribuição y_treino:\")\n",
        "print(y_treino.value_counts(normalize=True))\n",
        "\n",
        "print(\"\\nDistribuição y_teste:\")\n",
        "print(y_teste.value_counts(normalize=True))"
      ],
      "metadata": {
        "colab": {
          "base_uri": "https://localhost:8080/"
        },
        "id": "nVVDHpR0d-eF",
        "outputId": "b1a094d4-f4b3-4fb0-f044-2f3773b4e632"
      },
      "execution_count": 50,
      "outputs": [
        {
          "output_type": "stream",
          "name": "stdout",
          "text": [
            "Distribuição y_treino:\n",
            "cardio_disease\n",
            "1    0.503143\n",
            "0    0.496857\n",
            "Name: proportion, dtype: float64\n",
            "\n",
            "Distribuição y_teste:\n",
            "cardio_disease\n",
            "1    0.503\n",
            "0    0.497\n",
            "Name: proportion, dtype: float64\n"
          ]
        }
      ]
    },
    {
      "cell_type": "markdown",
      "source": [
        "#TREINANDO MODELO DE Regrssão logistica"
      ],
      "metadata": {
        "id": "w76tpN3cfbPJ"
      }
    },
    {
      "cell_type": "code",
      "source": [
        "modelo = LogisticRegression(random_state=42)\n",
        "modelo.fit(X_treino, y_treino)"
      ],
      "metadata": {
        "colab": {
          "base_uri": "https://localhost:8080/",
          "height": 80
        },
        "id": "GrD0xNS-faLN",
        "outputId": "0eb2ad14-8923-472a-ff70-f0e46299b30c"
      },
      "execution_count": 51,
      "outputs": [
        {
          "output_type": "execute_result",
          "data": {
            "text/plain": [
              "LogisticRegression(random_state=42)"
            ],
            "text/html": [
              "<style>#sk-container-id-1 {\n",
              "  /* Definition of color scheme common for light and dark mode */\n",
              "  --sklearn-color-text: #000;\n",
              "  --sklearn-color-text-muted: #666;\n",
              "  --sklearn-color-line: gray;\n",
              "  /* Definition of color scheme for unfitted estimators */\n",
              "  --sklearn-color-unfitted-level-0: #fff5e6;\n",
              "  --sklearn-color-unfitted-level-1: #f6e4d2;\n",
              "  --sklearn-color-unfitted-level-2: #ffe0b3;\n",
              "  --sklearn-color-unfitted-level-3: chocolate;\n",
              "  /* Definition of color scheme for fitted estimators */\n",
              "  --sklearn-color-fitted-level-0: #f0f8ff;\n",
              "  --sklearn-color-fitted-level-1: #d4ebff;\n",
              "  --sklearn-color-fitted-level-2: #b3dbfd;\n",
              "  --sklearn-color-fitted-level-3: cornflowerblue;\n",
              "\n",
              "  /* Specific color for light theme */\n",
              "  --sklearn-color-text-on-default-background: var(--sg-text-color, var(--theme-code-foreground, var(--jp-content-font-color1, black)));\n",
              "  --sklearn-color-background: var(--sg-background-color, var(--theme-background, var(--jp-layout-color0, white)));\n",
              "  --sklearn-color-border-box: var(--sg-text-color, var(--theme-code-foreground, var(--jp-content-font-color1, black)));\n",
              "  --sklearn-color-icon: #696969;\n",
              "\n",
              "  @media (prefers-color-scheme: dark) {\n",
              "    /* Redefinition of color scheme for dark theme */\n",
              "    --sklearn-color-text-on-default-background: var(--sg-text-color, var(--theme-code-foreground, var(--jp-content-font-color1, white)));\n",
              "    --sklearn-color-background: var(--sg-background-color, var(--theme-background, var(--jp-layout-color0, #111)));\n",
              "    --sklearn-color-border-box: var(--sg-text-color, var(--theme-code-foreground, var(--jp-content-font-color1, white)));\n",
              "    --sklearn-color-icon: #878787;\n",
              "  }\n",
              "}\n",
              "\n",
              "#sk-container-id-1 {\n",
              "  color: var(--sklearn-color-text);\n",
              "}\n",
              "\n",
              "#sk-container-id-1 pre {\n",
              "  padding: 0;\n",
              "}\n",
              "\n",
              "#sk-container-id-1 input.sk-hidden--visually {\n",
              "  border: 0;\n",
              "  clip: rect(1px 1px 1px 1px);\n",
              "  clip: rect(1px, 1px, 1px, 1px);\n",
              "  height: 1px;\n",
              "  margin: -1px;\n",
              "  overflow: hidden;\n",
              "  padding: 0;\n",
              "  position: absolute;\n",
              "  width: 1px;\n",
              "}\n",
              "\n",
              "#sk-container-id-1 div.sk-dashed-wrapped {\n",
              "  border: 1px dashed var(--sklearn-color-line);\n",
              "  margin: 0 0.4em 0.5em 0.4em;\n",
              "  box-sizing: border-box;\n",
              "  padding-bottom: 0.4em;\n",
              "  background-color: var(--sklearn-color-background);\n",
              "}\n",
              "\n",
              "#sk-container-id-1 div.sk-container {\n",
              "  /* jupyter's `normalize.less` sets `[hidden] { display: none; }`\n",
              "     but bootstrap.min.css set `[hidden] { display: none !important; }`\n",
              "     so we also need the `!important` here to be able to override the\n",
              "     default hidden behavior on the sphinx rendered scikit-learn.org.\n",
              "     See: https://github.com/scikit-learn/scikit-learn/issues/21755 */\n",
              "  display: inline-block !important;\n",
              "  position: relative;\n",
              "}\n",
              "\n",
              "#sk-container-id-1 div.sk-text-repr-fallback {\n",
              "  display: none;\n",
              "}\n",
              "\n",
              "div.sk-parallel-item,\n",
              "div.sk-serial,\n",
              "div.sk-item {\n",
              "  /* draw centered vertical line to link estimators */\n",
              "  background-image: linear-gradient(var(--sklearn-color-text-on-default-background), var(--sklearn-color-text-on-default-background));\n",
              "  background-size: 2px 100%;\n",
              "  background-repeat: no-repeat;\n",
              "  background-position: center center;\n",
              "}\n",
              "\n",
              "/* Parallel-specific style estimator block */\n",
              "\n",
              "#sk-container-id-1 div.sk-parallel-item::after {\n",
              "  content: \"\";\n",
              "  width: 100%;\n",
              "  border-bottom: 2px solid var(--sklearn-color-text-on-default-background);\n",
              "  flex-grow: 1;\n",
              "}\n",
              "\n",
              "#sk-container-id-1 div.sk-parallel {\n",
              "  display: flex;\n",
              "  align-items: stretch;\n",
              "  justify-content: center;\n",
              "  background-color: var(--sklearn-color-background);\n",
              "  position: relative;\n",
              "}\n",
              "\n",
              "#sk-container-id-1 div.sk-parallel-item {\n",
              "  display: flex;\n",
              "  flex-direction: column;\n",
              "}\n",
              "\n",
              "#sk-container-id-1 div.sk-parallel-item:first-child::after {\n",
              "  align-self: flex-end;\n",
              "  width: 50%;\n",
              "}\n",
              "\n",
              "#sk-container-id-1 div.sk-parallel-item:last-child::after {\n",
              "  align-self: flex-start;\n",
              "  width: 50%;\n",
              "}\n",
              "\n",
              "#sk-container-id-1 div.sk-parallel-item:only-child::after {\n",
              "  width: 0;\n",
              "}\n",
              "\n",
              "/* Serial-specific style estimator block */\n",
              "\n",
              "#sk-container-id-1 div.sk-serial {\n",
              "  display: flex;\n",
              "  flex-direction: column;\n",
              "  align-items: center;\n",
              "  background-color: var(--sklearn-color-background);\n",
              "  padding-right: 1em;\n",
              "  padding-left: 1em;\n",
              "}\n",
              "\n",
              "\n",
              "/* Toggleable style: style used for estimator/Pipeline/ColumnTransformer box that is\n",
              "clickable and can be expanded/collapsed.\n",
              "- Pipeline and ColumnTransformer use this feature and define the default style\n",
              "- Estimators will overwrite some part of the style using the `sk-estimator` class\n",
              "*/\n",
              "\n",
              "/* Pipeline and ColumnTransformer style (default) */\n",
              "\n",
              "#sk-container-id-1 div.sk-toggleable {\n",
              "  /* Default theme specific background. It is overwritten whether we have a\n",
              "  specific estimator or a Pipeline/ColumnTransformer */\n",
              "  background-color: var(--sklearn-color-background);\n",
              "}\n",
              "\n",
              "/* Toggleable label */\n",
              "#sk-container-id-1 label.sk-toggleable__label {\n",
              "  cursor: pointer;\n",
              "  display: flex;\n",
              "  width: 100%;\n",
              "  margin-bottom: 0;\n",
              "  padding: 0.5em;\n",
              "  box-sizing: border-box;\n",
              "  text-align: center;\n",
              "  align-items: start;\n",
              "  justify-content: space-between;\n",
              "  gap: 0.5em;\n",
              "}\n",
              "\n",
              "#sk-container-id-1 label.sk-toggleable__label .caption {\n",
              "  font-size: 0.6rem;\n",
              "  font-weight: lighter;\n",
              "  color: var(--sklearn-color-text-muted);\n",
              "}\n",
              "\n",
              "#sk-container-id-1 label.sk-toggleable__label-arrow:before {\n",
              "  /* Arrow on the left of the label */\n",
              "  content: \"▸\";\n",
              "  float: left;\n",
              "  margin-right: 0.25em;\n",
              "  color: var(--sklearn-color-icon);\n",
              "}\n",
              "\n",
              "#sk-container-id-1 label.sk-toggleable__label-arrow:hover:before {\n",
              "  color: var(--sklearn-color-text);\n",
              "}\n",
              "\n",
              "/* Toggleable content - dropdown */\n",
              "\n",
              "#sk-container-id-1 div.sk-toggleable__content {\n",
              "  max-height: 0;\n",
              "  max-width: 0;\n",
              "  overflow: hidden;\n",
              "  text-align: left;\n",
              "  /* unfitted */\n",
              "  background-color: var(--sklearn-color-unfitted-level-0);\n",
              "}\n",
              "\n",
              "#sk-container-id-1 div.sk-toggleable__content.fitted {\n",
              "  /* fitted */\n",
              "  background-color: var(--sklearn-color-fitted-level-0);\n",
              "}\n",
              "\n",
              "#sk-container-id-1 div.sk-toggleable__content pre {\n",
              "  margin: 0.2em;\n",
              "  border-radius: 0.25em;\n",
              "  color: var(--sklearn-color-text);\n",
              "  /* unfitted */\n",
              "  background-color: var(--sklearn-color-unfitted-level-0);\n",
              "}\n",
              "\n",
              "#sk-container-id-1 div.sk-toggleable__content.fitted pre {\n",
              "  /* unfitted */\n",
              "  background-color: var(--sklearn-color-fitted-level-0);\n",
              "}\n",
              "\n",
              "#sk-container-id-1 input.sk-toggleable__control:checked~div.sk-toggleable__content {\n",
              "  /* Expand drop-down */\n",
              "  max-height: 200px;\n",
              "  max-width: 100%;\n",
              "  overflow: auto;\n",
              "}\n",
              "\n",
              "#sk-container-id-1 input.sk-toggleable__control:checked~label.sk-toggleable__label-arrow:before {\n",
              "  content: \"▾\";\n",
              "}\n",
              "\n",
              "/* Pipeline/ColumnTransformer-specific style */\n",
              "\n",
              "#sk-container-id-1 div.sk-label input.sk-toggleable__control:checked~label.sk-toggleable__label {\n",
              "  color: var(--sklearn-color-text);\n",
              "  background-color: var(--sklearn-color-unfitted-level-2);\n",
              "}\n",
              "\n",
              "#sk-container-id-1 div.sk-label.fitted input.sk-toggleable__control:checked~label.sk-toggleable__label {\n",
              "  background-color: var(--sklearn-color-fitted-level-2);\n",
              "}\n",
              "\n",
              "/* Estimator-specific style */\n",
              "\n",
              "/* Colorize estimator box */\n",
              "#sk-container-id-1 div.sk-estimator input.sk-toggleable__control:checked~label.sk-toggleable__label {\n",
              "  /* unfitted */\n",
              "  background-color: var(--sklearn-color-unfitted-level-2);\n",
              "}\n",
              "\n",
              "#sk-container-id-1 div.sk-estimator.fitted input.sk-toggleable__control:checked~label.sk-toggleable__label {\n",
              "  /* fitted */\n",
              "  background-color: var(--sklearn-color-fitted-level-2);\n",
              "}\n",
              "\n",
              "#sk-container-id-1 div.sk-label label.sk-toggleable__label,\n",
              "#sk-container-id-1 div.sk-label label {\n",
              "  /* The background is the default theme color */\n",
              "  color: var(--sklearn-color-text-on-default-background);\n",
              "}\n",
              "\n",
              "/* On hover, darken the color of the background */\n",
              "#sk-container-id-1 div.sk-label:hover label.sk-toggleable__label {\n",
              "  color: var(--sklearn-color-text);\n",
              "  background-color: var(--sklearn-color-unfitted-level-2);\n",
              "}\n",
              "\n",
              "/* Label box, darken color on hover, fitted */\n",
              "#sk-container-id-1 div.sk-label.fitted:hover label.sk-toggleable__label.fitted {\n",
              "  color: var(--sklearn-color-text);\n",
              "  background-color: var(--sklearn-color-fitted-level-2);\n",
              "}\n",
              "\n",
              "/* Estimator label */\n",
              "\n",
              "#sk-container-id-1 div.sk-label label {\n",
              "  font-family: monospace;\n",
              "  font-weight: bold;\n",
              "  display: inline-block;\n",
              "  line-height: 1.2em;\n",
              "}\n",
              "\n",
              "#sk-container-id-1 div.sk-label-container {\n",
              "  text-align: center;\n",
              "}\n",
              "\n",
              "/* Estimator-specific */\n",
              "#sk-container-id-1 div.sk-estimator {\n",
              "  font-family: monospace;\n",
              "  border: 1px dotted var(--sklearn-color-border-box);\n",
              "  border-radius: 0.25em;\n",
              "  box-sizing: border-box;\n",
              "  margin-bottom: 0.5em;\n",
              "  /* unfitted */\n",
              "  background-color: var(--sklearn-color-unfitted-level-0);\n",
              "}\n",
              "\n",
              "#sk-container-id-1 div.sk-estimator.fitted {\n",
              "  /* fitted */\n",
              "  background-color: var(--sklearn-color-fitted-level-0);\n",
              "}\n",
              "\n",
              "/* on hover */\n",
              "#sk-container-id-1 div.sk-estimator:hover {\n",
              "  /* unfitted */\n",
              "  background-color: var(--sklearn-color-unfitted-level-2);\n",
              "}\n",
              "\n",
              "#sk-container-id-1 div.sk-estimator.fitted:hover {\n",
              "  /* fitted */\n",
              "  background-color: var(--sklearn-color-fitted-level-2);\n",
              "}\n",
              "\n",
              "/* Specification for estimator info (e.g. \"i\" and \"?\") */\n",
              "\n",
              "/* Common style for \"i\" and \"?\" */\n",
              "\n",
              ".sk-estimator-doc-link,\n",
              "a:link.sk-estimator-doc-link,\n",
              "a:visited.sk-estimator-doc-link {\n",
              "  float: right;\n",
              "  font-size: smaller;\n",
              "  line-height: 1em;\n",
              "  font-family: monospace;\n",
              "  background-color: var(--sklearn-color-background);\n",
              "  border-radius: 1em;\n",
              "  height: 1em;\n",
              "  width: 1em;\n",
              "  text-decoration: none !important;\n",
              "  margin-left: 0.5em;\n",
              "  text-align: center;\n",
              "  /* unfitted */\n",
              "  border: var(--sklearn-color-unfitted-level-1) 1pt solid;\n",
              "  color: var(--sklearn-color-unfitted-level-1);\n",
              "}\n",
              "\n",
              ".sk-estimator-doc-link.fitted,\n",
              "a:link.sk-estimator-doc-link.fitted,\n",
              "a:visited.sk-estimator-doc-link.fitted {\n",
              "  /* fitted */\n",
              "  border: var(--sklearn-color-fitted-level-1) 1pt solid;\n",
              "  color: var(--sklearn-color-fitted-level-1);\n",
              "}\n",
              "\n",
              "/* On hover */\n",
              "div.sk-estimator:hover .sk-estimator-doc-link:hover,\n",
              ".sk-estimator-doc-link:hover,\n",
              "div.sk-label-container:hover .sk-estimator-doc-link:hover,\n",
              ".sk-estimator-doc-link:hover {\n",
              "  /* unfitted */\n",
              "  background-color: var(--sklearn-color-unfitted-level-3);\n",
              "  color: var(--sklearn-color-background);\n",
              "  text-decoration: none;\n",
              "}\n",
              "\n",
              "div.sk-estimator.fitted:hover .sk-estimator-doc-link.fitted:hover,\n",
              ".sk-estimator-doc-link.fitted:hover,\n",
              "div.sk-label-container:hover .sk-estimator-doc-link.fitted:hover,\n",
              ".sk-estimator-doc-link.fitted:hover {\n",
              "  /* fitted */\n",
              "  background-color: var(--sklearn-color-fitted-level-3);\n",
              "  color: var(--sklearn-color-background);\n",
              "  text-decoration: none;\n",
              "}\n",
              "\n",
              "/* Span, style for the box shown on hovering the info icon */\n",
              ".sk-estimator-doc-link span {\n",
              "  display: none;\n",
              "  z-index: 9999;\n",
              "  position: relative;\n",
              "  font-weight: normal;\n",
              "  right: .2ex;\n",
              "  padding: .5ex;\n",
              "  margin: .5ex;\n",
              "  width: min-content;\n",
              "  min-width: 20ex;\n",
              "  max-width: 50ex;\n",
              "  color: var(--sklearn-color-text);\n",
              "  box-shadow: 2pt 2pt 4pt #999;\n",
              "  /* unfitted */\n",
              "  background: var(--sklearn-color-unfitted-level-0);\n",
              "  border: .5pt solid var(--sklearn-color-unfitted-level-3);\n",
              "}\n",
              "\n",
              ".sk-estimator-doc-link.fitted span {\n",
              "  /* fitted */\n",
              "  background: var(--sklearn-color-fitted-level-0);\n",
              "  border: var(--sklearn-color-fitted-level-3);\n",
              "}\n",
              "\n",
              ".sk-estimator-doc-link:hover span {\n",
              "  display: block;\n",
              "}\n",
              "\n",
              "/* \"?\"-specific style due to the `<a>` HTML tag */\n",
              "\n",
              "#sk-container-id-1 a.estimator_doc_link {\n",
              "  float: right;\n",
              "  font-size: 1rem;\n",
              "  line-height: 1em;\n",
              "  font-family: monospace;\n",
              "  background-color: var(--sklearn-color-background);\n",
              "  border-radius: 1rem;\n",
              "  height: 1rem;\n",
              "  width: 1rem;\n",
              "  text-decoration: none;\n",
              "  /* unfitted */\n",
              "  color: var(--sklearn-color-unfitted-level-1);\n",
              "  border: var(--sklearn-color-unfitted-level-1) 1pt solid;\n",
              "}\n",
              "\n",
              "#sk-container-id-1 a.estimator_doc_link.fitted {\n",
              "  /* fitted */\n",
              "  border: var(--sklearn-color-fitted-level-1) 1pt solid;\n",
              "  color: var(--sklearn-color-fitted-level-1);\n",
              "}\n",
              "\n",
              "/* On hover */\n",
              "#sk-container-id-1 a.estimator_doc_link:hover {\n",
              "  /* unfitted */\n",
              "  background-color: var(--sklearn-color-unfitted-level-3);\n",
              "  color: var(--sklearn-color-background);\n",
              "  text-decoration: none;\n",
              "}\n",
              "\n",
              "#sk-container-id-1 a.estimator_doc_link.fitted:hover {\n",
              "  /* fitted */\n",
              "  background-color: var(--sklearn-color-fitted-level-3);\n",
              "}\n",
              "</style><div id=\"sk-container-id-1\" class=\"sk-top-container\"><div class=\"sk-text-repr-fallback\"><pre>LogisticRegression(random_state=42)</pre><b>In a Jupyter environment, please rerun this cell to show the HTML representation or trust the notebook. <br />On GitHub, the HTML representation is unable to render, please try loading this page with nbviewer.org.</b></div><div class=\"sk-container\" hidden><div class=\"sk-item\"><div class=\"sk-estimator fitted sk-toggleable\"><input class=\"sk-toggleable__control sk-hidden--visually\" id=\"sk-estimator-id-1\" type=\"checkbox\" checked><label for=\"sk-estimator-id-1\" class=\"sk-toggleable__label fitted sk-toggleable__label-arrow\"><div><div>LogisticRegression</div></div><div><a class=\"sk-estimator-doc-link fitted\" rel=\"noreferrer\" target=\"_blank\" href=\"https://scikit-learn.org/1.6/modules/generated/sklearn.linear_model.LogisticRegression.html\">?<span>Documentation for LogisticRegression</span></a><span class=\"sk-estimator-doc-link fitted\">i<span>Fitted</span></span></div></label><div class=\"sk-toggleable__content fitted\"><pre>LogisticRegression(random_state=42)</pre></div> </div></div></div></div>"
            ]
          },
          "metadata": {},
          "execution_count": 51
        }
      ]
    },
    {
      "cell_type": "code",
      "source": [
        "# Realizando previsões no conjunto de teste\n",
        "y_pred = modelo.predict(X_teste)"
      ],
      "metadata": {
        "id": "tuu3dKLrflHp"
      },
      "execution_count": 52,
      "outputs": []
    },
    {
      "cell_type": "code",
      "source": [
        "# Avaliação do modelo\n",
        "\n",
        "from sklearn.linear_model import LogisticRegression\n",
        "from sklearn.metrics import accuracy_score, precision_score, recall_score, f1_score, confusion_matrix\n",
        "\n",
        "acuracia = accuracy_score(y_teste, y_pred)\n",
        "precisao = precision_score(y_teste, y_pred)\n",
        "recall = recall_score(y_teste, y_pred)\n",
        "f1 = f1_score(y_teste, y_pred)\n",
        "matriz_confusao = confusion_matrix(y_teste, y_pred)\n",
        "\n",
        "print(f'Acurácia: {acuracia:.4f}')\n",
        "print(f'Precisão: {precisao:.4f}')\n",
        "print(f'Recall: {recall:.4f}')\n",
        "print(f'F1-Score: {f1:.4f}')\n",
        "print(\"\\nMatriz de Confusão:\")\n",
        "print(matriz_confusao)"
      ],
      "metadata": {
        "colab": {
          "base_uri": "https://localhost:8080/"
        },
        "id": "BHSWU1BofnYs",
        "outputId": "cd39fb97-dd57-4df7-842d-8fb3f629947e"
      },
      "execution_count": 54,
      "outputs": [
        {
          "output_type": "stream",
          "name": "stdout",
          "text": [
            "Acurácia: 0.6387\n",
            "Precisão: 0.6467\n",
            "Recall: 0.6209\n",
            "F1-Score: 0.6335\n",
            "\n",
            "Matriz de Confusão:\n",
            "[[979 512]\n",
            " [572 937]]\n"
          ]
        }
      ]
    },
    {
      "cell_type": "markdown",
      "source": [
        "Verdadeiros Negativos (979): O modelo corretamente previu que essas pessoas não têm doença cardíaca.\n",
        "\n",
        "Falsos Positivos (512): O modelo erroneamente previu que essas pessoas têm doença cardíaca, quando, na verdade, não têm.\n",
        "\n",
        "Falsos Negativos (572): O modelo erroneamente previu que essas pessoas não têm doença cardíaca, quando, na verdade, têm.\n",
        "\n",
        "Verdadeiros Positivos (937): O modelo corretamente previu que essas pessoas têm doença cardíaca.\n"
      ],
      "metadata": {
        "id": "znFV0310f_Vh"
      }
    },
    {
      "cell_type": "code",
      "source": [
        "from sklearn.linear_model import LogisticRegression\n",
        "from sklearn.metrics import accuracy_score, precision_score, recall_score, f1_score, confusion_matrix\n",
        "\n",
        "# Testando diferentes valores de C para a regularização\n",
        "valores_C = [0.001, 0.01, 0.1, 1, 10, 100]\n",
        "melhor_acuracia = 0\n",
        "melhor_modelo = None\n",
        "\n",
        "for C_val in valores_C:\n",
        "    # Criando o modelo de Regressão Logística com o valor de C\n",
        "    modelo_logreg = LogisticRegression(C=C_val, random_state=42, solver='liblinear')\n",
        "\n",
        "    # Treinando o modelo\n",
        "    modelo_logreg.fit(X_treino, y_treino)\n",
        "\n",
        "    # Realizando previsões\n",
        "    y_pred = modelo_logreg.predict(X_teste)\n",
        "\n",
        "    # Calculando a acurácia\n",
        "    acuracia = accuracy_score(y_teste, y_pred)\n",
        "\n",
        "    # Se a acurácia for a melhor, salvar o modelo\n",
        "    if acuracia > melhor_acuracia:\n",
        "        melhor_acuracia = acuracia\n",
        "        melhor_modelo = modelo_logreg\n",
        "\n",
        "# Avaliação do melhor modelo\n",
        "y_pred_melhor = melhor_modelo.predict(X_teste)\n",
        "acuracia_melhor = accuracy_score(y_teste, y_pred_melhor)\n",
        "precisao_melhor = precision_score(y_teste, y_pred_melhor)\n",
        "recall_melhor = recall_score(y_teste, y_pred_melhor)\n",
        "f1_melhor = f1_score(y_teste, y_pred_melhor)\n",
        "matriz_confusao_melhor = confusion_matrix(y_teste, y_pred_melhor)\n",
        "\n",
        "# Exibindo os resultados\n",
        "print(f'Acurácia da Regressão Logística Ajustada: {acuracia_melhor:.4f}')\n",
        "print(f'Precisão da Regressão Logística Ajustada: {precisao_melhor:.4f}')\n",
        "print(f'Recall da Regressão Logística Ajustada: {recall_melhor:.4f}')\n",
        "print(f'F1-Score da Regressão Logística Ajustada: {f1_melhor:.4f}')\n",
        "print(\"\\nMatriz de Confusão da Regressão Logística Ajustada:\")\n",
        "print(matriz_confusao_melhor)\n"
      ],
      "metadata": {
        "colab": {
          "base_uri": "https://localhost:8080/"
        },
        "id": "7WQauc5NhBRJ",
        "outputId": "3d0ad011-255b-410f-c821-f4acb2963974"
      },
      "execution_count": 57,
      "outputs": [
        {
          "output_type": "stream",
          "name": "stdout",
          "text": [
            "Acurácia da Regressão Logística Ajustada: 0.6403\n",
            "Precisão da Regressão Logística Ajustada: 0.6485\n",
            "Recall da Regressão Logística Ajustada: 0.6223\n",
            "F1-Score da Regressão Logística Ajustada: 0.6351\n",
            "\n",
            "Matriz de Confusão da Regressão Logística Ajustada:\n",
            "[[982 509]\n",
            " [570 939]]\n"
          ]
        }
      ]
    },
    {
      "cell_type": "markdown",
      "source": [
        "Verdadeiros Negativos (982): O modelo acertou que essas pessoas não têm a doença cardíaca.\n",
        "\n",
        "Falsos Positivos (509): O modelo previu que essas pessoas têm a doença, quando na verdade não têm.\n",
        "\n",
        "Falsos Negativos (570): O modelo não identificou algumas pessoas que têm a doença.\n",
        "\n",
        "Verdadeiros Positivos (939): O modelo acertou que essas pessoas têm a doença cardíaca."
      ],
      "metadata": {
        "id": "p63mVC5ShRXH"
      }
    },
    {
      "cell_type": "code",
      "source": [
        "from sklearn.ensemble import RandomForestClassifier\n",
        "\n",
        "rf = RandomForestClassifier(n_estimators=200, max_depth=10, random_state=42)\n",
        "rf.fit(X_treino, y_treino)\n",
        "y_pred_rf = rf.predict(X_teste)\n",
        "\n",
        "print(\"\\nRandom Forest Ajustada:\")\n",
        "print(\"Acurácia:\", accuracy_score(y_teste, y_pred_rf))\n",
        "print(\"Precisão:\", precision_score(y_teste, y_pred_rf))\n",
        "print(\"Recall:\", recall_score(y_teste, y_pred_rf))\n",
        "print(\"F1-Score:\", f1_score(y_teste, y_pred_rf))\n",
        "print(\"Matriz de Confusão:\\n\", confusion_matrix(y_teste, y_pred_rf))\n"
      ],
      "metadata": {
        "colab": {
          "base_uri": "https://localhost:8080/"
        },
        "id": "gNcELoAihYtG",
        "outputId": "3b60a19e-a1e9-477b-826c-553c213a0f76"
      },
      "execution_count": 58,
      "outputs": [
        {
          "output_type": "stream",
          "name": "stdout",
          "text": [
            "\n",
            "Random Forest Ajustada:\n",
            "Acurácia: 0.6353333333333333\n",
            "Precisão: 0.6357096141268803\n",
            "Recall: 0.6441351888667992\n",
            "F1-Score: 0.6398946675444371\n",
            "Matriz de Confusão:\n",
            " [[934 557]\n",
            " [537 972]]\n"
          ]
        }
      ]
    },
    {
      "cell_type": "code",
      "source": [
        "\n",
        "# Acessando intercepto e coeficientes\n",
        "intercept = modelo_rl.intercept_\n",
        "coeficientes = modelo_rl.coef_\n",
        "\n",
        "# Criando um DataFrame com os nomes das variáveis\n",
        "import pandas as pd\n",
        "\n",
        "colunas = X_treino.columns\n",
        "df_coeficientes = pd.DataFrame({\n",
        "    'Variável': colunas,\n",
        "    'Coeficiente': coeficientes[0]\n",
        "})\n",
        "\n",
        "print(\"Intercepto da Regressão Logística:\")\n",
        "print(intercept)\n",
        "print(\"\\nCoeficientes por variável:\")\n",
        "print(df_coeficientes.sort_values(by='Coeficiente', key=abs, ascending=False))\n"
      ],
      "metadata": {
        "colab": {
          "base_uri": "https://localhost:8080/"
        },
        "id": "qTJX6C7xh9g1",
        "outputId": "0b0f963f-fbc8-4be5-91f6-bb870f91e5eb"
      },
      "execution_count": 66,
      "outputs": [
        {
          "output_type": "stream",
          "name": "stdout",
          "text": [
            "Intercepto da Regressão Logística:\n",
            "[0.04826588]\n",
            "\n",
            "Coeficientes por variável:\n",
            "      Variável  Coeficiente\n",
            "3       weight     0.485882\n",
            "0          age     0.430966\n",
            "4  cholesterol     0.414818\n",
            "2       height    -0.151782\n",
            "9          imc    -0.106121\n",
            "8       active    -0.091351\n",
            "5         gluc    -0.054176\n",
            "1       gender    -0.028121\n",
            "6        smoke    -0.019306\n",
            "7         alco    -0.006091\n"
          ]
        }
      ]
    },
    {
      "cell_type": "code",
      "source": [
        "from sklearn.linear_model import LogisticRegression\n",
        "\n",
        "modelo_rl = LogisticRegression(max_iter=1000, solver='lbfgs')\n",
        "modelo_rl.fit(X_treino, y_treino)"
      ],
      "metadata": {
        "colab": {
          "base_uri": "https://localhost:8080/",
          "height": 80
        },
        "id": "AW4vK5l9iK48",
        "outputId": "7522ab51-2187-4aad-c8db-553f1c2bf152"
      },
      "execution_count": 67,
      "outputs": [
        {
          "output_type": "execute_result",
          "data": {
            "text/plain": [
              "LogisticRegression(max_iter=1000)"
            ],
            "text/html": [
              "<style>#sk-container-id-3 {\n",
              "  /* Definition of color scheme common for light and dark mode */\n",
              "  --sklearn-color-text: #000;\n",
              "  --sklearn-color-text-muted: #666;\n",
              "  --sklearn-color-line: gray;\n",
              "  /* Definition of color scheme for unfitted estimators */\n",
              "  --sklearn-color-unfitted-level-0: #fff5e6;\n",
              "  --sklearn-color-unfitted-level-1: #f6e4d2;\n",
              "  --sklearn-color-unfitted-level-2: #ffe0b3;\n",
              "  --sklearn-color-unfitted-level-3: chocolate;\n",
              "  /* Definition of color scheme for fitted estimators */\n",
              "  --sklearn-color-fitted-level-0: #f0f8ff;\n",
              "  --sklearn-color-fitted-level-1: #d4ebff;\n",
              "  --sklearn-color-fitted-level-2: #b3dbfd;\n",
              "  --sklearn-color-fitted-level-3: cornflowerblue;\n",
              "\n",
              "  /* Specific color for light theme */\n",
              "  --sklearn-color-text-on-default-background: var(--sg-text-color, var(--theme-code-foreground, var(--jp-content-font-color1, black)));\n",
              "  --sklearn-color-background: var(--sg-background-color, var(--theme-background, var(--jp-layout-color0, white)));\n",
              "  --sklearn-color-border-box: var(--sg-text-color, var(--theme-code-foreground, var(--jp-content-font-color1, black)));\n",
              "  --sklearn-color-icon: #696969;\n",
              "\n",
              "  @media (prefers-color-scheme: dark) {\n",
              "    /* Redefinition of color scheme for dark theme */\n",
              "    --sklearn-color-text-on-default-background: var(--sg-text-color, var(--theme-code-foreground, var(--jp-content-font-color1, white)));\n",
              "    --sklearn-color-background: var(--sg-background-color, var(--theme-background, var(--jp-layout-color0, #111)));\n",
              "    --sklearn-color-border-box: var(--sg-text-color, var(--theme-code-foreground, var(--jp-content-font-color1, white)));\n",
              "    --sklearn-color-icon: #878787;\n",
              "  }\n",
              "}\n",
              "\n",
              "#sk-container-id-3 {\n",
              "  color: var(--sklearn-color-text);\n",
              "}\n",
              "\n",
              "#sk-container-id-3 pre {\n",
              "  padding: 0;\n",
              "}\n",
              "\n",
              "#sk-container-id-3 input.sk-hidden--visually {\n",
              "  border: 0;\n",
              "  clip: rect(1px 1px 1px 1px);\n",
              "  clip: rect(1px, 1px, 1px, 1px);\n",
              "  height: 1px;\n",
              "  margin: -1px;\n",
              "  overflow: hidden;\n",
              "  padding: 0;\n",
              "  position: absolute;\n",
              "  width: 1px;\n",
              "}\n",
              "\n",
              "#sk-container-id-3 div.sk-dashed-wrapped {\n",
              "  border: 1px dashed var(--sklearn-color-line);\n",
              "  margin: 0 0.4em 0.5em 0.4em;\n",
              "  box-sizing: border-box;\n",
              "  padding-bottom: 0.4em;\n",
              "  background-color: var(--sklearn-color-background);\n",
              "}\n",
              "\n",
              "#sk-container-id-3 div.sk-container {\n",
              "  /* jupyter's `normalize.less` sets `[hidden] { display: none; }`\n",
              "     but bootstrap.min.css set `[hidden] { display: none !important; }`\n",
              "     so we also need the `!important` here to be able to override the\n",
              "     default hidden behavior on the sphinx rendered scikit-learn.org.\n",
              "     See: https://github.com/scikit-learn/scikit-learn/issues/21755 */\n",
              "  display: inline-block !important;\n",
              "  position: relative;\n",
              "}\n",
              "\n",
              "#sk-container-id-3 div.sk-text-repr-fallback {\n",
              "  display: none;\n",
              "}\n",
              "\n",
              "div.sk-parallel-item,\n",
              "div.sk-serial,\n",
              "div.sk-item {\n",
              "  /* draw centered vertical line to link estimators */\n",
              "  background-image: linear-gradient(var(--sklearn-color-text-on-default-background), var(--sklearn-color-text-on-default-background));\n",
              "  background-size: 2px 100%;\n",
              "  background-repeat: no-repeat;\n",
              "  background-position: center center;\n",
              "}\n",
              "\n",
              "/* Parallel-specific style estimator block */\n",
              "\n",
              "#sk-container-id-3 div.sk-parallel-item::after {\n",
              "  content: \"\";\n",
              "  width: 100%;\n",
              "  border-bottom: 2px solid var(--sklearn-color-text-on-default-background);\n",
              "  flex-grow: 1;\n",
              "}\n",
              "\n",
              "#sk-container-id-3 div.sk-parallel {\n",
              "  display: flex;\n",
              "  align-items: stretch;\n",
              "  justify-content: center;\n",
              "  background-color: var(--sklearn-color-background);\n",
              "  position: relative;\n",
              "}\n",
              "\n",
              "#sk-container-id-3 div.sk-parallel-item {\n",
              "  display: flex;\n",
              "  flex-direction: column;\n",
              "}\n",
              "\n",
              "#sk-container-id-3 div.sk-parallel-item:first-child::after {\n",
              "  align-self: flex-end;\n",
              "  width: 50%;\n",
              "}\n",
              "\n",
              "#sk-container-id-3 div.sk-parallel-item:last-child::after {\n",
              "  align-self: flex-start;\n",
              "  width: 50%;\n",
              "}\n",
              "\n",
              "#sk-container-id-3 div.sk-parallel-item:only-child::after {\n",
              "  width: 0;\n",
              "}\n",
              "\n",
              "/* Serial-specific style estimator block */\n",
              "\n",
              "#sk-container-id-3 div.sk-serial {\n",
              "  display: flex;\n",
              "  flex-direction: column;\n",
              "  align-items: center;\n",
              "  background-color: var(--sklearn-color-background);\n",
              "  padding-right: 1em;\n",
              "  padding-left: 1em;\n",
              "}\n",
              "\n",
              "\n",
              "/* Toggleable style: style used for estimator/Pipeline/ColumnTransformer box that is\n",
              "clickable and can be expanded/collapsed.\n",
              "- Pipeline and ColumnTransformer use this feature and define the default style\n",
              "- Estimators will overwrite some part of the style using the `sk-estimator` class\n",
              "*/\n",
              "\n",
              "/* Pipeline and ColumnTransformer style (default) */\n",
              "\n",
              "#sk-container-id-3 div.sk-toggleable {\n",
              "  /* Default theme specific background. It is overwritten whether we have a\n",
              "  specific estimator or a Pipeline/ColumnTransformer */\n",
              "  background-color: var(--sklearn-color-background);\n",
              "}\n",
              "\n",
              "/* Toggleable label */\n",
              "#sk-container-id-3 label.sk-toggleable__label {\n",
              "  cursor: pointer;\n",
              "  display: flex;\n",
              "  width: 100%;\n",
              "  margin-bottom: 0;\n",
              "  padding: 0.5em;\n",
              "  box-sizing: border-box;\n",
              "  text-align: center;\n",
              "  align-items: start;\n",
              "  justify-content: space-between;\n",
              "  gap: 0.5em;\n",
              "}\n",
              "\n",
              "#sk-container-id-3 label.sk-toggleable__label .caption {\n",
              "  font-size: 0.6rem;\n",
              "  font-weight: lighter;\n",
              "  color: var(--sklearn-color-text-muted);\n",
              "}\n",
              "\n",
              "#sk-container-id-3 label.sk-toggleable__label-arrow:before {\n",
              "  /* Arrow on the left of the label */\n",
              "  content: \"▸\";\n",
              "  float: left;\n",
              "  margin-right: 0.25em;\n",
              "  color: var(--sklearn-color-icon);\n",
              "}\n",
              "\n",
              "#sk-container-id-3 label.sk-toggleable__label-arrow:hover:before {\n",
              "  color: var(--sklearn-color-text);\n",
              "}\n",
              "\n",
              "/* Toggleable content - dropdown */\n",
              "\n",
              "#sk-container-id-3 div.sk-toggleable__content {\n",
              "  max-height: 0;\n",
              "  max-width: 0;\n",
              "  overflow: hidden;\n",
              "  text-align: left;\n",
              "  /* unfitted */\n",
              "  background-color: var(--sklearn-color-unfitted-level-0);\n",
              "}\n",
              "\n",
              "#sk-container-id-3 div.sk-toggleable__content.fitted {\n",
              "  /* fitted */\n",
              "  background-color: var(--sklearn-color-fitted-level-0);\n",
              "}\n",
              "\n",
              "#sk-container-id-3 div.sk-toggleable__content pre {\n",
              "  margin: 0.2em;\n",
              "  border-radius: 0.25em;\n",
              "  color: var(--sklearn-color-text);\n",
              "  /* unfitted */\n",
              "  background-color: var(--sklearn-color-unfitted-level-0);\n",
              "}\n",
              "\n",
              "#sk-container-id-3 div.sk-toggleable__content.fitted pre {\n",
              "  /* unfitted */\n",
              "  background-color: var(--sklearn-color-fitted-level-0);\n",
              "}\n",
              "\n",
              "#sk-container-id-3 input.sk-toggleable__control:checked~div.sk-toggleable__content {\n",
              "  /* Expand drop-down */\n",
              "  max-height: 200px;\n",
              "  max-width: 100%;\n",
              "  overflow: auto;\n",
              "}\n",
              "\n",
              "#sk-container-id-3 input.sk-toggleable__control:checked~label.sk-toggleable__label-arrow:before {\n",
              "  content: \"▾\";\n",
              "}\n",
              "\n",
              "/* Pipeline/ColumnTransformer-specific style */\n",
              "\n",
              "#sk-container-id-3 div.sk-label input.sk-toggleable__control:checked~label.sk-toggleable__label {\n",
              "  color: var(--sklearn-color-text);\n",
              "  background-color: var(--sklearn-color-unfitted-level-2);\n",
              "}\n",
              "\n",
              "#sk-container-id-3 div.sk-label.fitted input.sk-toggleable__control:checked~label.sk-toggleable__label {\n",
              "  background-color: var(--sklearn-color-fitted-level-2);\n",
              "}\n",
              "\n",
              "/* Estimator-specific style */\n",
              "\n",
              "/* Colorize estimator box */\n",
              "#sk-container-id-3 div.sk-estimator input.sk-toggleable__control:checked~label.sk-toggleable__label {\n",
              "  /* unfitted */\n",
              "  background-color: var(--sklearn-color-unfitted-level-2);\n",
              "}\n",
              "\n",
              "#sk-container-id-3 div.sk-estimator.fitted input.sk-toggleable__control:checked~label.sk-toggleable__label {\n",
              "  /* fitted */\n",
              "  background-color: var(--sklearn-color-fitted-level-2);\n",
              "}\n",
              "\n",
              "#sk-container-id-3 div.sk-label label.sk-toggleable__label,\n",
              "#sk-container-id-3 div.sk-label label {\n",
              "  /* The background is the default theme color */\n",
              "  color: var(--sklearn-color-text-on-default-background);\n",
              "}\n",
              "\n",
              "/* On hover, darken the color of the background */\n",
              "#sk-container-id-3 div.sk-label:hover label.sk-toggleable__label {\n",
              "  color: var(--sklearn-color-text);\n",
              "  background-color: var(--sklearn-color-unfitted-level-2);\n",
              "}\n",
              "\n",
              "/* Label box, darken color on hover, fitted */\n",
              "#sk-container-id-3 div.sk-label.fitted:hover label.sk-toggleable__label.fitted {\n",
              "  color: var(--sklearn-color-text);\n",
              "  background-color: var(--sklearn-color-fitted-level-2);\n",
              "}\n",
              "\n",
              "/* Estimator label */\n",
              "\n",
              "#sk-container-id-3 div.sk-label label {\n",
              "  font-family: monospace;\n",
              "  font-weight: bold;\n",
              "  display: inline-block;\n",
              "  line-height: 1.2em;\n",
              "}\n",
              "\n",
              "#sk-container-id-3 div.sk-label-container {\n",
              "  text-align: center;\n",
              "}\n",
              "\n",
              "/* Estimator-specific */\n",
              "#sk-container-id-3 div.sk-estimator {\n",
              "  font-family: monospace;\n",
              "  border: 1px dotted var(--sklearn-color-border-box);\n",
              "  border-radius: 0.25em;\n",
              "  box-sizing: border-box;\n",
              "  margin-bottom: 0.5em;\n",
              "  /* unfitted */\n",
              "  background-color: var(--sklearn-color-unfitted-level-0);\n",
              "}\n",
              "\n",
              "#sk-container-id-3 div.sk-estimator.fitted {\n",
              "  /* fitted */\n",
              "  background-color: var(--sklearn-color-fitted-level-0);\n",
              "}\n",
              "\n",
              "/* on hover */\n",
              "#sk-container-id-3 div.sk-estimator:hover {\n",
              "  /* unfitted */\n",
              "  background-color: var(--sklearn-color-unfitted-level-2);\n",
              "}\n",
              "\n",
              "#sk-container-id-3 div.sk-estimator.fitted:hover {\n",
              "  /* fitted */\n",
              "  background-color: var(--sklearn-color-fitted-level-2);\n",
              "}\n",
              "\n",
              "/* Specification for estimator info (e.g. \"i\" and \"?\") */\n",
              "\n",
              "/* Common style for \"i\" and \"?\" */\n",
              "\n",
              ".sk-estimator-doc-link,\n",
              "a:link.sk-estimator-doc-link,\n",
              "a:visited.sk-estimator-doc-link {\n",
              "  float: right;\n",
              "  font-size: smaller;\n",
              "  line-height: 1em;\n",
              "  font-family: monospace;\n",
              "  background-color: var(--sklearn-color-background);\n",
              "  border-radius: 1em;\n",
              "  height: 1em;\n",
              "  width: 1em;\n",
              "  text-decoration: none !important;\n",
              "  margin-left: 0.5em;\n",
              "  text-align: center;\n",
              "  /* unfitted */\n",
              "  border: var(--sklearn-color-unfitted-level-1) 1pt solid;\n",
              "  color: var(--sklearn-color-unfitted-level-1);\n",
              "}\n",
              "\n",
              ".sk-estimator-doc-link.fitted,\n",
              "a:link.sk-estimator-doc-link.fitted,\n",
              "a:visited.sk-estimator-doc-link.fitted {\n",
              "  /* fitted */\n",
              "  border: var(--sklearn-color-fitted-level-1) 1pt solid;\n",
              "  color: var(--sklearn-color-fitted-level-1);\n",
              "}\n",
              "\n",
              "/* On hover */\n",
              "div.sk-estimator:hover .sk-estimator-doc-link:hover,\n",
              ".sk-estimator-doc-link:hover,\n",
              "div.sk-label-container:hover .sk-estimator-doc-link:hover,\n",
              ".sk-estimator-doc-link:hover {\n",
              "  /* unfitted */\n",
              "  background-color: var(--sklearn-color-unfitted-level-3);\n",
              "  color: var(--sklearn-color-background);\n",
              "  text-decoration: none;\n",
              "}\n",
              "\n",
              "div.sk-estimator.fitted:hover .sk-estimator-doc-link.fitted:hover,\n",
              ".sk-estimator-doc-link.fitted:hover,\n",
              "div.sk-label-container:hover .sk-estimator-doc-link.fitted:hover,\n",
              ".sk-estimator-doc-link.fitted:hover {\n",
              "  /* fitted */\n",
              "  background-color: var(--sklearn-color-fitted-level-3);\n",
              "  color: var(--sklearn-color-background);\n",
              "  text-decoration: none;\n",
              "}\n",
              "\n",
              "/* Span, style for the box shown on hovering the info icon */\n",
              ".sk-estimator-doc-link span {\n",
              "  display: none;\n",
              "  z-index: 9999;\n",
              "  position: relative;\n",
              "  font-weight: normal;\n",
              "  right: .2ex;\n",
              "  padding: .5ex;\n",
              "  margin: .5ex;\n",
              "  width: min-content;\n",
              "  min-width: 20ex;\n",
              "  max-width: 50ex;\n",
              "  color: var(--sklearn-color-text);\n",
              "  box-shadow: 2pt 2pt 4pt #999;\n",
              "  /* unfitted */\n",
              "  background: var(--sklearn-color-unfitted-level-0);\n",
              "  border: .5pt solid var(--sklearn-color-unfitted-level-3);\n",
              "}\n",
              "\n",
              ".sk-estimator-doc-link.fitted span {\n",
              "  /* fitted */\n",
              "  background: var(--sklearn-color-fitted-level-0);\n",
              "  border: var(--sklearn-color-fitted-level-3);\n",
              "}\n",
              "\n",
              ".sk-estimator-doc-link:hover span {\n",
              "  display: block;\n",
              "}\n",
              "\n",
              "/* \"?\"-specific style due to the `<a>` HTML tag */\n",
              "\n",
              "#sk-container-id-3 a.estimator_doc_link {\n",
              "  float: right;\n",
              "  font-size: 1rem;\n",
              "  line-height: 1em;\n",
              "  font-family: monospace;\n",
              "  background-color: var(--sklearn-color-background);\n",
              "  border-radius: 1rem;\n",
              "  height: 1rem;\n",
              "  width: 1rem;\n",
              "  text-decoration: none;\n",
              "  /* unfitted */\n",
              "  color: var(--sklearn-color-unfitted-level-1);\n",
              "  border: var(--sklearn-color-unfitted-level-1) 1pt solid;\n",
              "}\n",
              "\n",
              "#sk-container-id-3 a.estimator_doc_link.fitted {\n",
              "  /* fitted */\n",
              "  border: var(--sklearn-color-fitted-level-1) 1pt solid;\n",
              "  color: var(--sklearn-color-fitted-level-1);\n",
              "}\n",
              "\n",
              "/* On hover */\n",
              "#sk-container-id-3 a.estimator_doc_link:hover {\n",
              "  /* unfitted */\n",
              "  background-color: var(--sklearn-color-unfitted-level-3);\n",
              "  color: var(--sklearn-color-background);\n",
              "  text-decoration: none;\n",
              "}\n",
              "\n",
              "#sk-container-id-3 a.estimator_doc_link.fitted:hover {\n",
              "  /* fitted */\n",
              "  background-color: var(--sklearn-color-fitted-level-3);\n",
              "}\n",
              "</style><div id=\"sk-container-id-3\" class=\"sk-top-container\"><div class=\"sk-text-repr-fallback\"><pre>LogisticRegression(max_iter=1000)</pre><b>In a Jupyter environment, please rerun this cell to show the HTML representation or trust the notebook. <br />On GitHub, the HTML representation is unable to render, please try loading this page with nbviewer.org.</b></div><div class=\"sk-container\" hidden><div class=\"sk-item\"><div class=\"sk-estimator fitted sk-toggleable\"><input class=\"sk-toggleable__control sk-hidden--visually\" id=\"sk-estimator-id-3\" type=\"checkbox\" checked><label for=\"sk-estimator-id-3\" class=\"sk-toggleable__label fitted sk-toggleable__label-arrow\"><div><div>LogisticRegression</div></div><div><a class=\"sk-estimator-doc-link fitted\" rel=\"noreferrer\" target=\"_blank\" href=\"https://scikit-learn.org/1.6/modules/generated/sklearn.linear_model.LogisticRegression.html\">?<span>Documentation for LogisticRegression</span></a><span class=\"sk-estimator-doc-link fitted\">i<span>Fitted</span></span></div></label><div class=\"sk-toggleable__content fitted\"><pre>LogisticRegression(max_iter=1000)</pre></div> </div></div></div></div>"
            ]
          },
          "metadata": {},
          "execution_count": 67
        }
      ]
    },
    {
      "cell_type": "code",
      "source": [
        "# Intercepto\n",
        "intercept = modelo_rl.intercept_\n",
        "\n",
        "# Coeficientes\n",
        "coeficientes = modelo_rl.coef_\n",
        "\n",
        "# Organizando com os nomes das variáveis\n",
        "import pandas as pd\n",
        "\n",
        "colunas = X_treino.columns\n",
        "df_coeficientes = pd.DataFrame({\n",
        "    'Variável': colunas,\n",
        "    'Coeficiente': coeficientes[0]\n",
        "})\n",
        "\n",
        "# Exibindo resultados\n",
        "print(\"Intercepto da Regressão Logística:\")\n",
        "print(intercept)\n",
        "\n",
        "print(\"\\nCoeficientes por variável:\")\n",
        "print(df_coeficientes.sort_values(by='Coeficiente', key=abs, ascending=False))\n"
      ],
      "metadata": {
        "colab": {
          "base_uri": "https://localhost:8080/"
        },
        "id": "umT5Ey6HiLu0",
        "outputId": "e6fad408-9baf-4da6-c169-733da36615ce"
      },
      "execution_count": 68,
      "outputs": [
        {
          "output_type": "stream",
          "name": "stdout",
          "text": [
            "Intercepto da Regressão Logística:\n",
            "[0.04826588]\n",
            "\n",
            "Coeficientes por variável:\n",
            "      Variável  Coeficiente\n",
            "3       weight     0.485882\n",
            "0          age     0.430966\n",
            "4  cholesterol     0.414818\n",
            "2       height    -0.151782\n",
            "9          imc    -0.106121\n",
            "8       active    -0.091351\n",
            "5         gluc    -0.054176\n",
            "1       gender    -0.028121\n",
            "6        smoke    -0.019306\n",
            "7         alco    -0.006091\n"
          ]
        }
      ]
    },
    {
      "cell_type": "code",
      "source": [
        "# Remove a variável 'imc' dos conjuntos de treino e teste\n",
        "X_treino_sem_imc = X_treino.drop(columns=['imc'])\n",
        "X_teste_sem_imc = X_teste.drop(columns=['imc'])\n",
        "\n",
        "# Treina a regressão logística sem o imc\n",
        "from sklearn.linear_model import LogisticRegression\n",
        "from sklearn.metrics import accuracy_score, precision_score, recall_score, f1_score, confusion_matrix\n",
        "\n",
        "modelo_sem_imc = LogisticRegression(max_iter=1000)\n",
        "modelo_sem_imc.fit(X_treino_sem_imc, y_treino)\n",
        "\n",
        "# Faz previsões\n",
        "y_pred_sem_imc = modelo_sem_imc.predict(X_teste_sem_imc)\n",
        "\n",
        "# Avaliação\n",
        "print(\"Acurácia:\", accuracy_score(y_teste, y_pred_sem_imc))\n",
        "print(\"Precisão:\", precision_score(y_teste, y_pred_sem_imc))\n",
        "print(\"Recall:\", recall_score(y_teste, y_pred_sem_imc))\n",
        "print(\"F1-Score:\", f1_score(y_teste, y_pred_sem_imc))\n",
        "print(\"\\nMatriz de Confusão:\")\n",
        "print(confusion_matrix(y_teste, y_pred_sem_imc))\n"
      ],
      "metadata": {
        "colab": {
          "base_uri": "https://localhost:8080/"
        },
        "id": "zbqV2MO8iwy-",
        "outputId": "a5fd7282-d3bf-45ce-d500-6c326022a597"
      },
      "execution_count": 69,
      "outputs": [
        {
          "output_type": "stream",
          "name": "stdout",
          "text": [
            "Acurácia: 0.6393333333333333\n",
            "Precisão: 0.647955647955648\n",
            "Recall: 0.6196156394963552\n",
            "F1-Score: 0.6334688346883469\n",
            "\n",
            "Matriz de Confusão:\n",
            "[[983 508]\n",
            " [574 935]]\n"
          ]
        }
      ]
    },
    {
      "cell_type": "code",
      "source": [
        "from sklearn.linear_model import LogisticRegression\n",
        "\n",
        "# Regressão logística com L1 (Lasso)\n",
        "modelo_l1 = LogisticRegression(penalty='l1', solver='liblinear', max_iter=1000)\n",
        "modelo_l1.fit(X_treino, y_treino)\n",
        "\n",
        "# Ver coeficientes\n",
        "coef_l1 = modelo_l1.coef_[0]\n",
        "df_l1 = pd.DataFrame({'Variável': X_treino.columns, 'Coef_L1': coef_l1})\n",
        "print(df_l1[df_l1['Coef_L1'] != 0].sort_values(by='Coef_L1', key=abs, ascending=False))\n"
      ],
      "metadata": {
        "colab": {
          "base_uri": "https://localhost:8080/"
        },
        "id": "xLQmoqMDi4GG",
        "outputId": "a7f94374-c78e-41a1-b3ac-5689cf5317f7"
      },
      "execution_count": 70,
      "outputs": [
        {
          "output_type": "stream",
          "name": "stdout",
          "text": [
            "      Variável   Coef_L1\n",
            "3       weight  0.464234\n",
            "0          age  0.431238\n",
            "4  cholesterol  0.413905\n",
            "2       height -0.137464\n",
            "8       active -0.090518\n",
            "9          imc -0.084046\n",
            "5         gluc -0.053519\n",
            "6        smoke -0.017621\n",
            "1       gender -0.016700\n",
            "7         alco -0.004828\n"
          ]
        }
      ]
    },
    {
      "cell_type": "code",
      "source": [
        "import numpy as np\n",
        "df_coeficientes['Odds Ratio'] = np.exp(df_coeficientes['Coeficiente'])\n",
        "print(df_coeficientes.sort_values(by='Odds Ratio', ascending=False))\n"
      ],
      "metadata": {
        "colab": {
          "base_uri": "https://localhost:8080/"
        },
        "id": "IPTYUFAyi6eq",
        "outputId": "d3bd9823-34c7-4d3b-d4a0-e8543459e213"
      },
      "execution_count": 73,
      "outputs": [
        {
          "output_type": "stream",
          "name": "stdout",
          "text": [
            "      Variável  Coeficiente  Odds Ratio\n",
            "3       weight     0.485882    1.625609\n",
            "0          age     0.430966    1.538743\n",
            "4  cholesterol     0.414818    1.514095\n",
            "7         alco    -0.006091    0.993928\n",
            "6        smoke    -0.019306    0.980880\n",
            "1       gender    -0.028121    0.972271\n",
            "5         gluc    -0.054176    0.947266\n",
            "8       active    -0.091351    0.912698\n",
            "9          imc    -0.106121    0.899316\n",
            "2       height    -0.151782    0.859175\n"
          ]
        }
      ]
    },
    {
      "cell_type": "code",
      "source": [
        "pip install imbalanced-learn\n"
      ],
      "metadata": {
        "colab": {
          "base_uri": "https://localhost:8080/"
        },
        "id": "u6mcWieRk7a-",
        "outputId": "916fd2e9-9264-4b5d-bd84-f62250ef5f62"
      },
      "execution_count": 74,
      "outputs": [
        {
          "output_type": "stream",
          "name": "stdout",
          "text": [
            "Requirement already satisfied: imbalanced-learn in /usr/local/lib/python3.11/dist-packages (0.13.0)\n",
            "Requirement already satisfied: numpy<3,>=1.24.3 in /usr/local/lib/python3.11/dist-packages (from imbalanced-learn) (2.0.2)\n",
            "Requirement already satisfied: scipy<2,>=1.10.1 in /usr/local/lib/python3.11/dist-packages (from imbalanced-learn) (1.14.1)\n",
            "Requirement already satisfied: scikit-learn<2,>=1.3.2 in /usr/local/lib/python3.11/dist-packages (from imbalanced-learn) (1.6.1)\n",
            "Requirement already satisfied: sklearn-compat<1,>=0.1 in /usr/local/lib/python3.11/dist-packages (from imbalanced-learn) (0.1.3)\n",
            "Requirement already satisfied: joblib<2,>=1.1.1 in /usr/local/lib/python3.11/dist-packages (from imbalanced-learn) (1.4.2)\n",
            "Requirement already satisfied: threadpoolctl<4,>=2.0.0 in /usr/local/lib/python3.11/dist-packages (from imbalanced-learn) (3.6.0)\n"
          ]
        }
      ]
    },
    {
      "cell_type": "code",
      "source": [
        "from imblearn.over_sampling import SMOTE\n",
        "from collections import Counter\n",
        "\n",
        "# Inicializar o SMOTE\n",
        "smote = SMOTE(random_state=42)\n",
        "\n",
        "# Aplicando o SMOTE ao conjunto de treino\n",
        "X_treino_smote, y_treino_smote = smote.fit_resample(X_treino, y_treino)\n",
        "\n",
        "# Verificando a distribuição após o SMOTE\n",
        "print(f\"Distribuição original de y_treino: {Counter(y_treino)}\")\n",
        "print(f\"Distribuição após o SMOTE: {Counter(y_treino_smote)}\")\n",
        "\n",
        "# Treinando o modelo novamente com o novo conjunto balanceado\n",
        "modelo_rl = LogisticRegression(max_iter=1000, solver='liblinear')\n",
        "modelo_rl.fit(X_treino_smote, y_treino_smote)\n",
        "\n",
        "# Realizando as previsões\n",
        "y_pred_smote = modelo_rl.predict(X_teste)\n",
        "\n",
        "# Avaliando as métricas\n",
        "from sklearn.metrics import accuracy_score, precision_score, recall_score, f1_score, confusion_matrix\n",
        "\n",
        "acuracia_smote = accuracy_score(y_teste, y_pred_smote)\n",
        "precisao_smote = precision_score(y_teste, y_pred_smote)\n",
        "recall_smote = recall_score(y_teste, y_pred_smote)\n",
        "f1_smote = f1_score(y_teste, y_pred_smote)\n",
        "matriz_confusao_smote = confusion_matrix(y_teste, y_pred_smote)\n",
        "\n",
        "# Exibindo os resultados\n",
        "print(f\"Acurácia após SMOTE: {acuracia_smote}\")\n",
        "print(f\"Precisão após SMOTE: {precisao_smote}\")\n",
        "print(f\"Recall após SMOTE: {recall_smote}\")\n",
        "print(f\"F1-Score após SMOTE: {f1_smote}\")\n",
        "print(f\"Matriz de Confusão após SMOTE:\\n{matriz_confusao_smote}\")\n"
      ],
      "metadata": {
        "colab": {
          "base_uri": "https://localhost:8080/"
        },
        "id": "hVEpm1Oqk9b0",
        "outputId": "08bd6575-610a-4e2b-e335-8bed662602fe"
      },
      "execution_count": 75,
      "outputs": [
        {
          "output_type": "stream",
          "name": "stdout",
          "text": [
            "Distribuição original de y_treino: Counter({1: 3522, 0: 3478})\n",
            "Distribuição após o SMOTE: Counter({0: 3522, 1: 3522})\n",
            "Acurácia após SMOTE: 0.6373333333333333\n",
            "Precisão após SMOTE: 0.6481351161154116\n",
            "Recall após SMOTE: 0.610337972166998\n",
            "F1-Score após SMOTE: 0.6286689419795222\n",
            "Matriz de Confusão após SMOTE:\n",
            "[[991 500]\n",
            " [588 921]]\n"
          ]
        }
      ]
    },
    {
      "cell_type": "code",
      "source": [
        "# Faz previsões\n",
        "y_pred_sem_imc = modelo_sem_imc.predict(X_teste_sem_imc)\n",
        "\n",
        "# Avaliação\n",
        "print(\"Acurácia:\", accuracy_score(y_teste, y_pred_sem_imc))\n",
        "print(\"Precisão:\", precision_score(y_teste, y_pred_sem_imc))\n",
        "print(\"Recall:\", recall_score(y_teste, y_pred_sem_imc))\n",
        "print(\"F1-Score:\", f1_score(y_teste, y_pred_sem_imc))\n",
        "print(\"\\nMatriz de Confusão:\")\n",
        "print(confusion_matrix(y_teste, y_pred_sem_imc))"
      ],
      "metadata": {
        "colab": {
          "base_uri": "https://localhost:8080/"
        },
        "id": "ubQ9SyfKliwQ",
        "outputId": "0237c353-e704-4303-d90f-547c3de116ff"
      },
      "execution_count": 77,
      "outputs": [
        {
          "output_type": "stream",
          "name": "stdout",
          "text": [
            "Acurácia: 0.6393333333333333\n",
            "Precisão: 0.647955647955648\n",
            "Recall: 0.6196156394963552\n",
            "F1-Score: 0.6334688346883469\n",
            "\n",
            "Matriz de Confusão:\n",
            "[[983 508]\n",
            " [574 935]]\n"
          ]
        }
      ]
    },
    {
      "cell_type": "markdown",
      "source": [
        "Foi realizado o balanceamento das classes com Smote\n",
        "F1-Score de 63.35%: o modelo está equilibrando bem a necessidade de não fazer muitas previsões falsas e a necessidade de identificar corretamente os casos de doença cardíaca.\n"
      ],
      "metadata": {
        "id": "y_RCQ4YFlxN5"
      }
    },
    {
      "cell_type": "code",
      "source": [
        "# Aplicar o modelo ao conjunto de teste\n",
        "y_pred_teste = modelo_rl.predict(X_teste)\n",
        "\n",
        "# Avaliar as previsões no conjunto de teste\n",
        "from sklearn.metrics import accuracy_score, precision_score, recall_score, f1_score, confusion_matrix\n",
        "\n",
        "# Cálculo das métricas\n",
        "acuracia_teste = accuracy_score(y_teste, y_pred_teste)\n",
        "precisao_teste = precision_score(y_teste, y_pred_teste)\n",
        "recall_teste = recall_score(y_teste, y_pred_teste)\n",
        "f1_teste = f1_score(y_teste, y_pred_teste)\n",
        "\n",
        "# Matriz de confusão\n",
        "matriz_confusao_teste = confusion_matrix(y_teste, y_pred_teste)\n",
        "\n",
        "# Exibindo os resultados\n",
        "print(f\"Acurácia do modelo nos dados de teste: {acuracia_teste:.4f}\")\n",
        "print(f\"Precisão do modelo nos dados de teste: {precisao_teste:.4f}\")\n",
        "print(f\"Recall do modelo nos dados de teste: {recall_teste:.4f}\")\n",
        "print(f\"F1-Score do modelo nos dados de teste: {f1_teste:.4f}\")\n",
        "print(\"Matriz de Confusão nos dados de teste:\")\n",
        "print(matriz_confusao_teste)\n"
      ],
      "metadata": {
        "colab": {
          "base_uri": "https://localhost:8080/"
        },
        "id": "W8scAv5tmNQp",
        "outputId": "df483b43-072b-4a61-85ec-a7b6c312b2b1"
      },
      "execution_count": 78,
      "outputs": [
        {
          "output_type": "stream",
          "name": "stdout",
          "text": [
            "Acurácia do modelo nos dados de teste: 0.6373\n",
            "Precisão do modelo nos dados de teste: 0.6481\n",
            "Recall do modelo nos dados de teste: 0.6103\n",
            "F1-Score do modelo nos dados de teste: 0.6287\n",
            "Matriz de Confusão nos dados de teste:\n",
            "[[991 500]\n",
            " [588 921]]\n"
          ]
        }
      ]
    },
    {
      "cell_type": "code",
      "source": [
        "import matplotlib.pyplot as plt\n",
        "from sklearn.metrics import roc_curve, auc\n",
        "\n",
        "# Obter as probabilidades de previsão para a classe positiva (1)\n",
        "y_prob_teste = modelo_rl.predict_proba(X_teste)[:, 1]\n",
        "\n",
        "# Calcular as taxas de verdadeiro positivo (TPR) e falso positivo (FPR)\n",
        "fpr, tpr, thresholds = roc_curve(y_teste, y_prob_teste)\n",
        "\n",
        "# Calcular a AUC (Área Sob a Curva)\n",
        "roc_auc = auc(fpr, tpr)\n",
        "\n",
        "# Plotar a curva ROC\n",
        "plt.figure(figsize=(8, 6))\n",
        "plt.plot(fpr, tpr, color='darkorange', lw=2, label=f'ROC curve (AUC = {roc_auc:.2f})')\n",
        "plt.plot([0, 1], [0, 1], color='navy', lw=2, linestyle='--')  # Linha de chance aleatória\n",
        "plt.xlabel('Falso Positivo (FPR)')\n",
        "plt.ylabel('Verdadeiro Positivo (TPR)')\n",
        "plt.title('Curva ROC')\n",
        "plt.legend(loc='lower right')\n",
        "plt.grid(True)\n",
        "plt.show()\n"
      ],
      "metadata": {
        "colab": {
          "base_uri": "https://localhost:8080/",
          "height": 564
        },
        "id": "52eXPAobmWI9",
        "outputId": "3b4cd2d5-1146-4d24-bf94-f10bf1e22f47"
      },
      "execution_count": 79,
      "outputs": [
        {
          "output_type": "display_data",
          "data": {
            "text/plain": [
              "<Figure size 800x600 with 1 Axes>"
            ],
            "image/png": "[encoded data removed]"
          },
          "metadata": {}
        }
      ]
    },
    {
      "cell_type": "markdown",
      "source": [
        "O modelo treinado apresenta 0.70 de AUC considerando um valor moderado. APós aplicar o balancemanto com a técnica SMOTe, Odds Ratio, seguirei com o modelo\n",
        ""
      ],
      "metadata": {
        "id": "ppgTWqTomjTj"
      }
    },
    {
      "cell_type": "markdown",
      "source": [
        "A regressão logística é um modelo estatístico utilizado para prever a probabilidade de uma variável dependente categórica, especialmente quando essa variável tem apenas dois valores possíveis, como 0 e 1, ou \"sim\" e \"não\n",
        " Seu objetivo principal é atribuir uma classe a uma observação com base em um conjunto de características ou variáveis independentes.\n",
        " A regressão logistica tem da regressão linear principalmente em sua estrutura e no conceito básico de modelagem preditiva Ambos os modelos utilizam uma combinação linear das variáveis independentes (ou preditoras) para fazer previsões. A diferença é que, enquanto a regressão linear modela uma variável dependente contínua, a regressão logística modela a probabilidade de uma variável dependente categórica"
      ],
      "metadata": {
        "id": "KjkuBnmnnGkP"
      }
    }
  ]
}