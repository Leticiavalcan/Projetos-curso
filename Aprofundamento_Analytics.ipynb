{
  "nbformat": 4,
  "nbformat_minor": 0,
  "metadata": {
    "colab": {
      "provenance": []
    },
    "kernelspec": {
      "name": "python3",
      "display_name": "Python 3"
    },
    "language_info": {
      "name": "python"
    }
  },
  "cells": [
    {
      "cell_type": "code",
      "execution_count": 1,
      "metadata": {
        "id": "t4bIecIyMLSp"
      },
      "outputs": [],
      "source": [
        "import sqlite3\n",
        "import pandas as pd"
      ]
    },
    {
      "cell_type": "code",
      "source": [
        "df_transacoes = pd.read_csv(\"/content/TB_TRANSACOES_PROJETO_ECOMM.csv\", delimiter=',')\n",
        "df_clientes = pd.read_csv(\"/content/TB_CLIENTES_PROJETO_ECOMM.csv\", delimiter=',')"
      ],
      "metadata": {
        "id": "8zJJGBUmMoB6"
      },
      "execution_count": 2,
      "outputs": []
    },
    {
      "cell_type": "code",
      "source": [
        "# Verificar os nomes das colunas\n",
        "print(df_transacoes.head())\n",
        "print(df_clientes.head())"
      ],
      "metadata": {
        "colab": {
          "base_uri": "https://localhost:8080/"
        },
        "id": "EGmRBldaN683",
        "outputId": "c622f36c-827e-4b10-ede9-6b42296dde10"
      },
      "execution_count": 3,
      "outputs": [
        {
          "output_type": "stream",
          "name": "stdout",
          "text": [
            "   id_client     Category   Price   Card_Type\n",
            "0         37  Electronics   72,93  mastercard\n",
            "1         38      Jewelry  121,89  mastercard\n",
            "2         39         Baby    64,3  mastercard\n",
            "3         40     Outdoors    9,48  mastercard\n",
            "4          5     Outdoors   61,95  mastercard\n",
            "   Id_client state_name First_name  Gender                     Job_Title\n",
            "0          1         TX    Domingo    Male  Structural Analysis Engineer\n",
            "1          2         MI    Russell    Male            Speech Pathologist\n",
            "2          3         AL     Kimble    Male           Account Coordinator\n",
            "3          4         IL   Barnabas    Male               General Manager\n",
            "4          5         MN     Tanney  Female                  VP Marketing\n"
          ]
        }
      ]
    },
    {
      "cell_type": "code",
      "source": [
        "# Substituir vírgula por ponto e converter para float\n",
        "df_transacoes['Price'] = df_transacoes['Price'].str.replace(',', '.')\n",
        "df_transacoes['Price'] = pd.to_numeric(df_transacoes['Price'])\n"
      ],
      "metadata": {
        "id": "zN9MtcGBJuHp"
      },
      "execution_count": 4,
      "outputs": []
    },
    {
      "cell_type": "code",
      "source": [
        "df_transacoes.columns = df_transacoes.columns.str.strip().str.lower()\n",
        "df_clientes.columns = df_clientes.columns.str.strip().str.lower()\n"
      ],
      "metadata": {
        "id": "MjkpVgfkJvmL"
      },
      "execution_count": 5,
      "outputs": []
    },
    {
      "cell_type": "code",
      "source": [
        "print(df_transacoes.head())\n",
        "print(df_clientes.head())"
      ],
      "metadata": {
        "colab": {
          "base_uri": "https://localhost:8080/"
        },
        "id": "TNEuwnI0J1yy",
        "outputId": "32bb6126-ea6e-4781-ad91-c6ed4cc4a83f"
      },
      "execution_count": 6,
      "outputs": [
        {
          "output_type": "stream",
          "name": "stdout",
          "text": [
            "   id_client     category   price   card_type\n",
            "0         37  Electronics   72.93  mastercard\n",
            "1         38      Jewelry  121.89  mastercard\n",
            "2         39         Baby   64.30  mastercard\n",
            "3         40     Outdoors    9.48  mastercard\n",
            "4          5     Outdoors   61.95  mastercard\n",
            "   id_client state_name first_name  gender                     job_title\n",
            "0          1         TX    Domingo    Male  Structural Analysis Engineer\n",
            "1          2         MI    Russell    Male            Speech Pathologist\n",
            "2          3         AL     Kimble    Male           Account Coordinator\n",
            "3          4         IL   Barnabas    Male               General Manager\n",
            "4          5         MN     Tanney  Female                  VP Marketing\n"
          ]
        }
      ]
    },
    {
      "cell_type": "code",
      "source": [
        "conn = sqlite3.connect('projeto.db')\n",
        "# Carregar o DataFrame no banco de dados SQLite - criando tb_transacoes e tb_clientes\n",
        "df_transacoes.to_sql('tb_transacoes', conn, index=False, if_exists='replace')\n",
        "df_clientes.to_sql('tb_clientes', conn, index=False, if_exists='replace')"
      ],
      "metadata": {
        "colab": {
          "base_uri": "https://localhost:8080/"
        },
        "id": "dpFRoMGUMrX4",
        "outputId": "fcf8063c-9f26-4dc2-b6f3-93fa6a22003c"
      },
      "execution_count": 7,
      "outputs": [
        {
          "output_type": "execute_result",
          "data": {
            "text/plain": [
              "175"
            ]
          },
          "metadata": {},
          "execution_count": 7
        }
      ]
    },
    {
      "cell_type": "code",
      "source": [
        "# Função para executar consultas SQL e retornar o resultado como um DataFrame\n",
        "def run_query(query):\n",
        "    return pd.read_sql_query(query, conn)"
      ],
      "metadata": {
        "id": "2-pOSKpdMxs4"
      },
      "execution_count": 8,
      "outputs": []
    },
    {
      "cell_type": "code",
      "source": [
        "import pandas as pd\n",
        "import sqlite3\n",
        "\n",
        "query = \"\"\"\n",
        "SELECT\n",
        "    c.id_client,\n",
        "    c.state_name,\n",
        "    c.first_name,\n",
        "    c.gender,\n",
        "    c.job_title,\n",
        "    t.category,\n",
        "    t.price,\n",
        "    t.card_type\n",
        "FROM\n",
        "    tb_clientes c\n",
        "INNER JOIN\n",
        "    tb_transacoes t\n",
        "ON\n",
        "    c.id_client = t.id_client;\n",
        "\"\"\"\n",
        "\n",
        "# Executar o JOIN\n",
        "dados_unificados = pd.read_sql(query, conn)\n",
        "print(dados_unificados.head())\n",
        "\n",
        "# Exportar para CSV\n",
        "dados_unificados.to_csv(\"dados_unificados.csv\", index=False)\n",
        "\n"
      ],
      "metadata": {
        "colab": {
          "base_uri": "https://localhost:8080/"
        },
        "id": "WToXgn71M2Co",
        "outputId": "3c68a15b-4a77-444c-ae1f-755fcd7ff217"
      },
      "execution_count": 9,
      "outputs": [
        {
          "output_type": "stream",
          "name": "stdout",
          "text": [
            "   id_client state_name first_name  gender                     job_title  \\\n",
            "0          1         TX    Domingo    Male  Structural Analysis Engineer   \n",
            "1          2         MI    Russell    Male            Speech Pathologist   \n",
            "2          3         AL     Kimble    Male           Account Coordinator   \n",
            "3          4         IL   Barnabas    Male               General Manager   \n",
            "4          5         MN     Tanney  Female                  VP Marketing   \n",
            "\n",
            "   category   price   card_type  \n",
            "0  Outdoors   16.97  mastercard  \n",
            "1   Grocery  143.39  mastercard  \n",
            "2     Music   37.64  mastercard  \n",
            "3   Jewelry    8.51  mastercard  \n",
            "4   Grocery   28.42  mastercard  \n"
          ]
        }
      ]
    }
  ]
}